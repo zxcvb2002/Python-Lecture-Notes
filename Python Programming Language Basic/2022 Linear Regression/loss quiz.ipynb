{
 "cells": [
  {
   "cell_type": "code",
   "execution_count": 8,
   "id": "034014b2",
   "metadata": {},
   "outputs": [
    {
     "name": "stdout",
     "output_type": "stream",
     "text": [
      "공부시간을 입력하세요:131\n",
      "99.56\n"
     ]
    }
   ],
   "source": [
    "x = [145, 142, 138, 132, 127, 126, 125, 124, 115, 115]\n",
    "y = [100, 100, 100, 100, 98, 98, 98, 96, 95, 100]\n",
    "\n",
    "w = 0.76  # loss값이 가장 작아지는, 즉, 최적의 (a(학습률)값에서의) w 값은 0.76이므로... (선형회귀분석)\n",
    "\n",
    "m = len(x)\n",
    "\n",
    "sig = 0\n",
    "for i in range(m):\n",
    "    sig += ((w*x[i]-y[i]))**2\n",
    "\n",
    "loss = sig/m\n",
    "\n",
    "#print(loss)\n",
    "\n",
    "# (임의의(10과목의 공부시간외 다른) 공부시간에 대한) 점수 예측\n",
    "learntime = int(input(\"공부시간을 입력하세요:\"))\n",
    "score = learntime*w\n",
    "print(score)"
   ]
  },
  {
   "cell_type": "code",
   "execution_count": null,
   "id": "b4dce9b6",
   "metadata": {},
   "outputs": [],
   "source": [
    "전자디스플레이개론 145시간 - 100점\n",
    "\n",
    "수학의이해 142시간 - 100점\n",
    "\n",
    "일반물리실험 138시간 - 100점\n",
    "\n",
    "일반화학실험 132시간 - 100점\n",
    "\n",
    "일반물리 127시간 - 98점\n",
    "\n",
    "벤처와창업가정신 126시간 - 98점\n",
    "\n",
    "대학영어강독 125시간 - 98점\n",
    "\n",
    "글쓰기와커뮤니케이션 124시간 - 96점\n",
    "\n",
    "일반화학 115시간 - 95점\n",
    "\n",
    "대학생활설계와비전 115시간 - 100점\n",
    "\n",
    "최적의 w값 -> 0.76\n",
    "\n",
    "임의의 과목 ?시간 -> ?점\n",
    "\n",
    "예시 과목 131시간 -> 99.56점"
   ]
  }
 ],
 "metadata": {
  "kernelspec": {
   "display_name": "Python 3 (ipykernel)",
   "language": "python",
   "name": "python3"
  },
  "language_info": {
   "codemirror_mode": {
    "name": "ipython",
    "version": 3
   },
   "file_extension": ".py",
   "mimetype": "text/x-python",
   "name": "python",
   "nbconvert_exporter": "python",
   "pygments_lexer": "ipython3",
   "version": "3.8.5"
  }
 },
 "nbformat": 4,
 "nbformat_minor": 5
}
