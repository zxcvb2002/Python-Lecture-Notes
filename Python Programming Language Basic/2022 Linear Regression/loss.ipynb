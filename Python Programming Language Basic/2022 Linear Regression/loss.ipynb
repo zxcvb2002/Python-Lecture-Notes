{
 "cells": [
  {
   "cell_type": "code",
   "execution_count": 1,
   "id": "b0e7901b",
   "metadata": {},
   "outputs": [
    {
     "name": "stdout",
     "output_type": "stream",
     "text": [
      "50.0\n"
     ]
    }
   ],
   "source": [
    "x = [30, 100, 120, 170, 50] #키 # (training) data (set)\n",
    "y = [20, 60, 70, 80, 25] #몸무게 # (training) data (set)\n",
    "#굉장히 정확하지 않다고 할 수 있음 - 요소(element)(data)가 5개밖에 없기 때문에\n",
    "\n",
    "w = 0.5 #가중치 #지금은 손코딩하나, 나중에는 프로그래밍을 통해 가장 적절한 가중치를 컴퓨터가 내 손 대신 직접 찾도록 할 것\n",
    "\n",
    "m = len(x)\n",
    "# loss = 1/m / sig(w*x-y)**2 (실제값 과 계산값의 차이)\n",
    "\n",
    "sig = 0\n",
    "for i in range(m):\n",
    "    sig += ((w*x[i]-y[i]))**2\n",
    "    \n",
    "loss = sig/m\n",
    "\n",
    "print(loss)\n",
    "\n",
    "#height = 175\n",
    "#weight = height*w\n",
    "#print(weight)"
   ]
  },
  {
   "cell_type": "code",
   "execution_count": 2,
   "id": "962d6a66",
   "metadata": {},
   "outputs": [
    {
     "name": "stdout",
     "output_type": "stream",
     "text": [
      "42.20600000000003\n"
     ]
    }
   ],
   "source": [
    "x = [30, 100, 120, 170, 50]\n",
    "y = [20, 60, 70, 80, 25]\n",
    "\n",
    "w = 0.53 # 제일 적절한/최적의 w(eight)값\n",
    "\n",
    "m = len(x)\n",
    "# loss = 1/m / sig(w*x-y)**2\n",
    "\n",
    "sig = 0\n",
    "for i in range(m):\n",
    "    sig += ((w*x[i]-y[i]))**2\n",
    "    \n",
    "loss = sig/m\n",
    "\n",
    "print(loss)"
   ]
  },
  {
   "cell_type": "code",
   "execution_count": 1,
   "id": "8ae6c968",
   "metadata": {},
   "outputs": [
    {
     "name": "stdout",
     "output_type": "stream",
     "text": [
      "87.5\n"
     ]
    }
   ],
   "source": [
    "# 내가 알고 싶은 키에 대한 몸무게의 비를 찾 ...\n",
    "\n",
    "x = [30, 100, 120, 170, 50]\n",
    "y = [20, 60, 70, 80, 25]\n",
    "\n",
    "w = 0.5\n",
    "\n",
    "m = len(x)\n",
    "# loss = 1/m / sig(w*x-y)**2\n",
    "\n",
    "sig = 0\n",
    "for i in range(m):\n",
    "    sig += ((w*x[i]-y[i]))**2\n",
    "    \n",
    "loss = sig/m\n",
    "\n",
    "#print(loss)\n",
    "\n",
    "height = 175\n",
    "weight = height*w\n",
    "print(weight)"
   ]
  }
 ],
 "metadata": {
  "kernelspec": {
   "display_name": "Python 3 (ipykernel)",
   "language": "python",
   "name": "python3"
  },
  "language_info": {
   "codemirror_mode": {
    "name": "ipython",
    "version": 3
   },
   "file_extension": ".py",
   "mimetype": "text/x-python",
   "name": "python",
   "nbconvert_exporter": "python",
   "pygments_lexer": "ipython3",
   "version": "3.8.5"
  }
 },
 "nbformat": 4,
 "nbformat_minor": 5
}
