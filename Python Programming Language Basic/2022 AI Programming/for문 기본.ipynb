{
 "cells": [
  {
   "cell_type": "code",
   "execution_count": 1,
   "id": "b9628a42",
   "metadata": {},
   "outputs": [
    {
     "name": "stdout",
     "output_type": "stream",
     "text": [
      "출력\n",
      "출력\n",
      "출력\n",
      "출력\n",
      "출력\n",
      "출력\n",
      "출력\n",
      "출력\n",
      "출력\n",
      "출력\n"
     ]
    }
   ],
   "source": [
    "# for 반복문 - 컴퓨터에 반복 작업을 지시\n",
    "\n",
    "for i in range(10):\n",
    "    print(\"출력\")"
   ]
  },
  {
   "cell_type": "code",
   "execution_count": 2,
   "id": "05f3d9b8",
   "metadata": {},
   "outputs": [
    {
     "ename": "SyntaxError",
     "evalue": "invalid syntax (2596717083.py, line 3)",
     "output_type": "error",
     "traceback": [
      "\u001b[0;36m  Input \u001b[0;32mIn [2]\u001b[0;36m\u001b[0m\n\u001b[0;31m    for 반복자 in 반복할 수 있는 것:\u001b[0m\n\u001b[0m                   ^\u001b[0m\n\u001b[0;31mSyntaxError\u001b[0m\u001b[0;31m:\u001b[0m invalid syntax\n"
     ]
    }
   ],
   "source": [
    "# 문자열, 리스트, 딕셔너리 등과 조합하여 for 반복문을 사용\n",
    "\n",
    "for 반복자 in 반복할 수 있는 것:\n",
    "    코드"
   ]
  },
  {
   "cell_type": "code",
   "execution_count": 6,
   "id": "a3944d16",
   "metadata": {},
   "outputs": [],
   "source": [
    "# 이중 for문"
   ]
  },
  {
   "cell_type": "code",
   "execution_count": 5,
   "id": "1e36663f",
   "metadata": {},
   "outputs": [
    {
     "name": "stdout",
     "output_type": "stream",
     "text": [
      "1 5 9 13 \n",
      "\n",
      "2 6 10 14 \n",
      "\n",
      "3 7 11 15 \n",
      "\n",
      "4 8 12 16 \n",
      "\n"
     ]
    }
   ],
   "source": [
    "for i in range(0,4):\n",
    "    for j in range (1,15,4): # 애초에 j가 1 5(1+4) 9(5+4) 13(9+4)의 패턴이란 소리임.\n",
    "        print(i+j,end=\" \")\n",
    "    print(\"\\n\")"
   ]
  },
  {
   "cell_type": "code",
   "execution_count": 4,
   "id": "3ee86804",
   "metadata": {},
   "outputs": [
    {
     "name": "stdout",
     "output_type": "stream",
     "text": [
      "1 3 5 7 9 \n",
      "\n",
      "2 4 6 8 10 \n",
      "\n",
      "3 5 7 9 11 \n",
      "\n",
      "4 6 8 10 12 \n",
      "\n"
     ]
    }
   ],
   "source": [
    "for i in range(0,4):\n",
    "    for j in range(1 , 10 , 2): # 애초에 j가 1 3(1+2) 5(3+2) 7(5+2) 9(7+2)의 패턴이란 소리임.\n",
    "        print(i+j, end=\" \")\n",
    "    print(\"\\n\")"
   ]
  }
 ],
 "metadata": {
  "kernelspec": {
   "display_name": "Python 3 (ipykernel)",
   "language": "python",
   "name": "python3"
  },
  "language_info": {
   "codemirror_mode": {
    "name": "ipython",
    "version": 3
   },
   "file_extension": ".py",
   "mimetype": "text/x-python",
   "name": "python",
   "nbconvert_exporter": "python",
   "pygments_lexer": "ipython3",
   "version": "3.8.5"
  }
 },
 "nbformat": 4,
 "nbformat_minor": 5
}
