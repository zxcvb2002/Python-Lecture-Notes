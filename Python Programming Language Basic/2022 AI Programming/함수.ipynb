{
 "cells": [
  {
   "cell_type": "code",
   "execution_count": 1,
   "id": "0e850cae",
   "metadata": {},
   "outputs": [
    {
     "ename": "SyntaxError",
     "evalue": "invalid syntax (4045288212.py, line 4)",
     "output_type": "error",
     "traceback": [
      "\u001b[0;36m  Input \u001b[0;32mIn [1]\u001b[0;36m\u001b[0m\n\u001b[0;31m    def 함수 이름():\u001b[0m\n\u001b[0m           ^\u001b[0m\n\u001b[0;31mSyntaxError\u001b[0m\u001b[0;31m:\u001b[0m invalid syntax\n"
     ]
    }
   ],
   "source": [
    "# 함수 = 코드의 집합\n",
    "# 호출 : 함수를 실행하는 행위\n",
    "\n",
    "def 함수 이름():\n",
    "    문장"
   ]
  },
  {
   "cell_type": "code",
   "execution_count": 26,
   "id": "5018cb93",
   "metadata": {},
   "outputs": [
    {
     "name": "stdout",
     "output_type": "stream",
     "text": [
      "안녕하세요\n",
      "안녕하세요\n",
      "안녕하세요\n"
     ]
    }
   ],
   "source": [
    "def print_3_times():\n",
    "    print(\"안녕하세요\")\n",
    "    print(\"안녕하세요\")\n",
    "    print(\"안녕하세요\")\n",
    "\n",
    "\n",
    "print_3_times()"
   ]
  },
  {
   "cell_type": "code",
   "execution_count": 2,
   "id": "f1b91afd",
   "metadata": {},
   "outputs": [
    {
     "ename": "SyntaxError",
     "evalue": "invalid syntax (2566934043.py, line 3)",
     "output_type": "error",
     "traceback": [
      "\u001b[0;36m  Input \u001b[0;32mIn [2]\u001b[0;36m\u001b[0m\n\u001b[0;31m    def 함수 이름(매개변수, 매개변수, ...):\u001b[0m\n\u001b[0m           ^\u001b[0m\n\u001b[0;31mSyntaxError\u001b[0m\u001b[0;31m:\u001b[0m invalid syntax\n"
     ]
    }
   ],
   "source": [
    "# 매개변수 - 함수의 괄호 내부에 넣는 것\n",
    "\n",
    "def 함수 이름(매개변수, 매개변수, ...):\n",
    "    문장"
   ]
  },
  {
   "cell_type": "code",
   "execution_count": 28,
   "id": "9967e65d",
   "metadata": {},
   "outputs": [
    {
     "name": "stdout",
     "output_type": "stream",
     "text": [
      "안녕하세요\n",
      "안녕하세요\n",
      "안녕하세요\n",
      "안녕하세요\n",
      "안녕하세요\n"
     ]
    }
   ],
   "source": [
    "def print_n_times(value, n):\n",
    "    for i in range(n):\n",
    "        print(value)\n",
    "        \n",
    "print_n_times(\"안녕하세요\", 5)"
   ]
  },
  {
   "cell_type": "code",
   "execution_count": 29,
   "id": "fe4c0217",
   "metadata": {},
   "outputs": [
    {
     "ename": "TypeError",
     "evalue": "print_n_times() missing 1 required positional argument: 'n'",
     "output_type": "error",
     "traceback": [
      "\u001b[0;31m---------------------------------------------------------------------------\u001b[0m",
      "\u001b[0;31mTypeError\u001b[0m                                 Traceback (most recent call last)",
      "Input \u001b[0;32mIn [29]\u001b[0m, in \u001b[0;36m<cell line: 7>\u001b[0;34m()\u001b[0m\n\u001b[1;32m      4\u001b[0m     \u001b[38;5;28;01mfor\u001b[39;00m i \u001b[38;5;129;01min\u001b[39;00m \u001b[38;5;28mrange\u001b[39m(n):\n\u001b[1;32m      5\u001b[0m         \u001b[38;5;28mprint\u001b[39m(value)\n\u001b[0;32m----> 7\u001b[0m \u001b[43mprint_n_times\u001b[49m\u001b[43m(\u001b[49m\u001b[38;5;124;43m\"\u001b[39;49m\u001b[38;5;124;43m안녕하세요\u001b[39;49m\u001b[38;5;124;43m\"\u001b[39;49m\u001b[43m)\u001b[49m\n",
      "\u001b[0;31mTypeError\u001b[0m: print_n_times() missing 1 required positional argument: 'n'"
     ]
    }
   ],
   "source": [
    "# 매개변수(에 관련된) TypeError\n",
    "\n",
    "def print_n_times(value, n): # 매개변수를 2개 지정\n",
    "    for i in range(n):\n",
    "        print(value)\n",
    "        \n",
    "print_n_times(\"안녕하세요\") # 매개변수를 하나밖에 안 넣음"
   ]
  },
  {
   "cell_type": "code",
   "execution_count": 30,
   "id": "0cb62172",
   "metadata": {},
   "outputs": [],
   "source": [
    "# 가변 매개변수 (함수) - 매개변수를 원하는 만큼 받을 수 있는 함수\n",
    "\n",
    "# def 함수이름(매개변수, 매개변수, ..., *가변매개변수):\n",
    "    #문장\n",
    "\n",
    "# 제약 - 가변 매개변수는 뒤에 일반 매개변수가 올 수 없음 / 가변 매개변수는 하나만 사용할 수 있음"
   ]
  },
  {
   "cell_type": "code",
   "execution_count": 10,
   "id": "dc08e47c",
   "metadata": {},
   "outputs": [
    {
     "name": "stdout",
     "output_type": "stream",
     "text": [
      "안녕하세요\n",
      "즐거운\n",
      "파이썬 프로그래밍\n",
      "\n",
      "안녕하세요\n",
      "즐거운\n",
      "파이썬 프로그래밍\n",
      "\n",
      "안녕하세요\n",
      "즐거운\n",
      "파이썬 프로그래밍\n",
      "\n"
     ]
    }
   ],
   "source": [
    "def print_n_times(n, *values):\n",
    "    # n번 반복합니다.\n",
    "    for i in range(n):\n",
    "        # value는 리스트처럼 활용합니다.\n",
    "        for value in values:\n",
    "            print(value)\n",
    "        # 단순한 줄바꿈\n",
    "        print()\n",
    "\n",
    "print_n_times(3, \"안녕하세요\", \"즐거운\", \"파이썬 프로그래밍\")"
   ]
  },
  {
   "cell_type": "code",
   "execution_count": 32,
   "id": "10983a9d",
   "metadata": {},
   "outputs": [
    {
     "ename": "SyntaxError",
     "evalue": "invalid syntax (2715022632.py, line 3)",
     "output_type": "error",
     "traceback": [
      "\u001b[0;36m  Input \u001b[0;32mIn [32]\u001b[0;36m\u001b[0m\n\u001b[0;31m    def print_n_times(values, n=2) # 여기에 매개변수의 기본값을 넣어(설정해) 주어야 함.\u001b[0m\n\u001b[0m                                   ^\u001b[0m\n\u001b[0;31mSyntaxError\u001b[0m\u001b[0;31m:\u001b[0m invalid syntax\n"
     ]
    }
   ],
   "source": [
    "# 기본 매개변수 (형식) - 매개변수에 아무 것도 넣지 않아도 들어가는 값\n",
    "\n",
    "def print_n_times(values, n=2) # 여기에 매개변수의 기본값을 넣어(설정해) 주어야 함.\n",
    "    # n번 반복합니다.\n",
    "    for i in range(n):\n",
    "        print(values)\n",
    "\n",
    "print_n_times(\"안녕하세요\") # 여기에 매개변수 값(을) 입력하지 않았을 경우"
   ]
  },
  {
   "cell_type": "code",
   "execution_count": 33,
   "id": "44e8908a",
   "metadata": {},
   "outputs": [
    {
     "ename": "TypeError",
     "evalue": "'str' object cannot be interpreted as an integer",
     "output_type": "error",
     "traceback": [
      "\u001b[0;31m---------------------------------------------------------------------------\u001b[0m",
      "\u001b[0;31mTypeError\u001b[0m                                 Traceback (most recent call last)",
      "Input \u001b[0;32mIn [33]\u001b[0m, in \u001b[0;36m<cell line: 12>\u001b[0;34m()\u001b[0m\n\u001b[1;32m      9\u001b[0m         \u001b[38;5;66;03m# 단순한 줄바꿈\u001b[39;00m\n\u001b[1;32m     10\u001b[0m         \u001b[38;5;28mprint\u001b[39m()\n\u001b[0;32m---> 12\u001b[0m \u001b[43mprint_n_times\u001b[49m\u001b[43m(\u001b[49m\u001b[38;5;124;43m\"\u001b[39;49m\u001b[38;5;124;43m안녕하세요\u001b[39;49m\u001b[38;5;124;43m\"\u001b[39;49m\u001b[43m,\u001b[49m\u001b[43m \u001b[49m\u001b[38;5;124;43m\"\u001b[39;49m\u001b[38;5;124;43m즐거운\u001b[39;49m\u001b[38;5;124;43m\"\u001b[39;49m\u001b[43m,\u001b[49m\u001b[43m \u001b[49m\u001b[38;5;124;43m\"\u001b[39;49m\u001b[38;5;124;43m파이썬 프로그래밍\u001b[39;49m\u001b[38;5;124;43m\"\u001b[39;49m\u001b[43m)\u001b[49m\n",
      "Input \u001b[0;32mIn [33]\u001b[0m, in \u001b[0;36mprint_n_times\u001b[0;34m(n, *values)\u001b[0m\n\u001b[1;32m      3\u001b[0m \u001b[38;5;28;01mdef\u001b[39;00m \u001b[38;5;21mprint_n_times\u001b[39m(n\u001b[38;5;241m=\u001b[39m\u001b[38;5;241m2\u001b[39m, \u001b[38;5;241m*\u001b[39mvalues):\n\u001b[1;32m      4\u001b[0m     \u001b[38;5;66;03m# n번 반복합니다.\u001b[39;00m\n\u001b[0;32m----> 5\u001b[0m     \u001b[38;5;28;01mfor\u001b[39;00m i \u001b[38;5;129;01min\u001b[39;00m \u001b[38;5;28;43mrange\u001b[39;49m\u001b[43m(\u001b[49m\u001b[43mn\u001b[49m\u001b[43m)\u001b[49m:\n\u001b[1;32m      6\u001b[0m         \u001b[38;5;66;03m# value는 리스트처럼 활용합니다.\u001b[39;00m\n\u001b[1;32m      7\u001b[0m         \u001b[38;5;28;01mfor\u001b[39;00m value \u001b[38;5;129;01min\u001b[39;00m values:\n\u001b[1;32m      8\u001b[0m             \u001b[38;5;28mprint\u001b[39m(value)\n",
      "\u001b[0;31mTypeError\u001b[0m: 'str' object cannot be interpreted as an integer"
     ]
    }
   ],
   "source": [
    "# 기본 매개변수가 가변 매개변수보다 앞에 올 때 - 기본 매개변수의 의미가 사라짐\n",
    "\n",
    "def print_n_times(n=2, *values):\n",
    "    # n번 반복합니다.\n",
    "    for i in range(n):\n",
    "        # value는 리스트처럼 활용합니다.\n",
    "        for value in values:\n",
    "            print(value)\n",
    "        # 단순한 줄바꿈\n",
    "        print()\n",
    "\n",
    "print_n_times(\"안녕하세요\", \"즐거운\", \"파이썬 프로그래밍\")"
   ]
  },
  {
   "cell_type": "code",
   "execution_count": 34,
   "id": "d112729b",
   "metadata": {},
   "outputs": [
    {
     "name": "stdout",
     "output_type": "stream",
     "text": [
      "안녕하세요\n",
      "즐거운\n",
      "파이썬 프로그래밍\n",
      "3\n",
      "\n",
      "안녕하세요\n",
      "즐거운\n",
      "파이썬 프로그래밍\n",
      "3\n",
      "\n"
     ]
    }
   ],
   "source": [
    "# 가변 매개변수가 기본 매개변수보다 앞에 올 때 - 가변 매개변수가 우선됨\n",
    "\n",
    "def print_n_times(*values, n=2):\n",
    "    # n번 반복합니다.\n",
    "    for i in range(n):\n",
    "        # value는 리스트처럼 활용합니다.\n",
    "        for value in values:\n",
    "            print(value)\n",
    "        # 단순한 줄바꿈\n",
    "        print()\n",
    "\n",
    "print_n_times(\"안녕하세요\", \"즐거운\", \"파이썬 프로그래밍\", 3)\n",
    "\n",
    "# 우선순위에 따라 출력값이 완전히 달라짐\n",
    "# 여기서는 가변 매개변수가 기본 매개변수보다 우선순위에 있기에, 우선되어 반영된 결괏값을 내어놓게 된다."
   ]
  },
  {
   "cell_type": "code",
   "execution_count": null,
   "id": "eee93a5b",
   "metadata": {},
   "outputs": [],
   "source": [
    "# 키워드 매개변수 - 매개변수 이름을 지정해서 입력하는 매개변수\n",
    "# 파이썬에서는 가변 매개변수와 기본 매개변수를 동시에 함께 사용 가능하게 하도록 키워드 매개변수라는 기능을 만들어 둠\n",
    "\n",
    "while True:\n",
    "    # \".\"을 출력합니다.\n",
    "    # 기본적으로 end가 \"\\n\"이라 줄바꿈이 일어나는데,\n",
    "    # 빈 문자열 \"\"로 바꿔서 줄바꿈이 일어나지 않게 합니다.\n",
    "    print(\".\", end=\"\") # 여기서 end=\"\"는 키워드 매개변수입니다. (???)\n",
    "    \n",
    "# 절대로 실행하지 말 것. 렉 걸림"
   ]
  },
  {
   "cell_type": "code",
   "execution_count": 35,
   "id": "926bb086",
   "metadata": {},
   "outputs": [
    {
     "name": "stdout",
     "output_type": "stream",
     "text": [
      "안녕하세요\n",
      "즐거운\n",
      "파이썬 프로그래밍\n",
      "\n",
      "안녕하세요\n",
      "즐거운\n",
      "파이썬 프로그래밍\n",
      "\n",
      "안녕하세요\n",
      "즐거운\n",
      "파이썬 프로그래밍\n",
      "\n"
     ]
    }
   ],
   "source": [
    "def print_n_times(*values, n=2):\n",
    "    # n번 반복합니다.\n",
    "    for i in range(n):\n",
    "        # value는 리스트처럼 활용합니다.\n",
    "        for value in values:\n",
    "            print(value)\n",
    "        # 단순한 줄바꿈\n",
    "        print()\n",
    "\n",
    "print_n_times(\"안녕하세요\", \"즐거운\", \"파이썬 프로그래밍\", n=3) # 여기서 n=3은 키워드 매개변수"
   ]
  },
  {
   "cell_type": "code",
   "execution_count": 36,
   "id": "f71aa8bb",
   "metadata": {},
   "outputs": [
    {
     "name": "stdout",
     "output_type": "stream",
     "text": [
      "60\n",
      "310\n",
      "310\n",
      "220\n"
     ]
    }
   ],
   "source": [
    "# 기본 매개변수 중에서 필요한 값만 입력하기\n",
    "\n",
    "def test(a, b=10, c=100): # 매개변수 a : 일반 매개변수이므로 해당 위치에 반드시 입력해야 함\n",
    "    print(a + b + c)\n",
    "\n",
    "#1) 기본 형태\n",
    "test(10, 20, 30)\n",
    "#2) 키워드 매개변수로 모든 매개변수를 지정한 형태\n",
    "test(a=10, b=100, c=200)\n",
    "#3) 키워드 매개변수로 모든 매개변수를 마구잡이로 지정한 형태\n",
    "test(c=10, a=100, b=200) # 키워드 지정하여 매개변수 입력하는 경우 매개변수 순서를 원하는대로 입력할 수 있음\n",
    "#4) 키워드 매개변수로 일부 매개변수만 지정한 형태\n",
    "test(10, c=200) # b를 생략한 형태, 키워드 매개변수 사용하여 필요한 매개변수에만 값을 전달\n",
    "\n",
    "# 키워드 매개변수가 우선됨"
   ]
  },
  {
   "cell_type": "code",
   "execution_count": 38,
   "id": "a58b1a2d",
   "metadata": {},
   "outputs": [
    {
     "name": "stdout",
     "output_type": "stream",
     "text": [
      "> 1\n",
      "1\n"
     ]
    }
   ],
   "source": [
    "# 리턴(return value) - 함수의 결과 (프린트와의 차이 기억하기 - 출력/호출 - 재활용 가능/불가)\n",
    "# 리턴값 : 함수의 최종적인 결과\n",
    "\n",
    "# input()함수의 리턴값을 변수에 지정합니다.\n",
    "value = input(\"> \")\n",
    "\n",
    "# 출력합니다.\n",
    "print(value)"
   ]
  },
  {
   "cell_type": "code",
   "execution_count": 43,
   "id": "99161a30",
   "metadata": {},
   "outputs": [
    {
     "name": "stdout",
     "output_type": "stream",
     "text": [
      "A 위치입니다.\n"
     ]
    }
   ],
   "source": [
    "# 자료 없이 리턴하기 - return 키워드 : 함수를 실행했던 위치로 돌아가게 함\n",
    "\n",
    "# 함수를 정의합니다.\n",
    "def return_test():\n",
    "    print(\"A 위치입니다.\")\n",
    "    return\n",
    "    print(\"B 위치입니다.\")\n",
    "\n",
    "# 함수를 호출합니다.\n",
    "return_test()"
   ]
  },
  {
   "cell_type": "code",
   "execution_count": 45,
   "id": "548023d4",
   "metadata": {},
   "outputs": [
    {
     "name": "stdout",
     "output_type": "stream",
     "text": [
      "100\n"
     ]
    }
   ],
   "source": [
    "# 자료와 함께 리턴하기 - 리턴 뒤에 자료 입력하면 자료 가지고 돌아감\n",
    "\n",
    "# 함수를 정의합니다.\n",
    "def return_test():\n",
    "    return 100\n",
    "\n",
    "# 함수를 호출합니다.\n",
    "value = return_test()\n",
    "print(value)"
   ]
  },
  {
   "cell_type": "code",
   "execution_count": 46,
   "id": "4f84c34b",
   "metadata": {},
   "outputs": [
    {
     "name": "stdout",
     "output_type": "stream",
     "text": [
      "None\n"
     ]
    }
   ],
   "source": [
    "# 아무것도 리턴하지 않기 - None : '없다'라는 의미\n",
    "\n",
    "# 함수를 정의합니다.\n",
    "def return_test():\n",
    "    return\n",
    "\n",
    "# 함수를 호출합니다.\n",
    "value = return_test()\n",
    "print(value)"
   ]
  },
  {
   "cell_type": "code",
   "execution_count": 47,
   "id": "862b2019",
   "metadata": {},
   "outputs": [],
   "source": [
    "# 리턴의 일반적인 형태 - 값을 만들어 리턴\n",
    "\n",
    "# def 함수(매개변수):\n",
    "    # 함수 = 초깃값 / 변수 = 초깃값 / 변수 선언 - 초깃값 설정 시 연산 시 아무런 값에 변화가 없는 것을 초깃값으로 사용\n",
    "    # 여러 가지 처리\n",
    "    # 여러 가지 처리\n",
    "    # 여러 가지 처리\n",
    "    # return 변수"
   ]
  },
  {
   "cell_type": "code",
   "execution_count": 1,
   "id": "0a412b32",
   "metadata": {},
   "outputs": [
    {
     "name": "stdout",
     "output_type": "stream",
     "text": [
      "0 to 100: 5050\n",
      "0 to 1000: 500500\n",
      "50 to 100: 3825\n",
      "500 to 1000: 375750\n"
     ]
    }
   ],
   "source": [
    "# 예시(example) - 범위 내부의 정수를 모두 더하는 함수\n",
    "\n",
    "# 함수를 선언합니다.\n",
    "def sum_all(start, end):\n",
    "    # 변수를(의 초깃값을) 선언합니다.\n",
    "    output = 0\n",
    "    # 반복문을 불러 숫자를 더합니다.\n",
    "    for i in range(start, end+1):\n",
    "        output += i\n",
    "    # 리턴합니다.\n",
    "    return output\n",
    "\n",
    "# 함수를 호출합니다.\n",
    "print(\"0 to 100:\", sum_all(0, 100))\n",
    "print(\"0 to 1000:\", sum_all(0, 1000))\n",
    "print(\"50 to 100:\", sum_all(50, 100))\n",
    "print(\"500 to 1000:\", sum_all(500, 1000))"
   ]
  },
  {
   "cell_type": "code",
   "execution_count": 17,
   "id": "e7b0acc3",
   "metadata": {
    "scrolled": true
   },
   "outputs": [
    {
     "name": "stdout",
     "output_type": "stream",
     "text": [
      "10\n",
      "21\n",
      "121\n"
     ]
    }
   ],
   "source": [
    "# 방정식\n",
    "\n",
    "def f(x):\n",
    "    return x\n",
    "print(f(10))\n",
    "\n",
    "def f(x):\n",
    "    return 2*x+1\n",
    "print(f(10))\n",
    "\n",
    "def f(x):\n",
    "    return x**2+2*x+1\n",
    "print(f(10))"
   ]
  },
  {
   "cell_type": "code",
   "execution_count": 20,
   "id": "888d6946",
   "metadata": {},
   "outputs": [
    {
     "name": "stdout",
     "output_type": "stream",
     "text": [
      "3150\n"
     ]
    }
   ],
   "source": [
    "# 매개변수로 전달된 값들을 모두 곱해서 리턴하는 가변 매개변수 함수\n",
    "\n",
    "def mul(*values):\n",
    "    output = 1\n",
    "    for i in values:\n",
    "        output *= i\n",
    "    return output\n",
    "\n",
    "# 함수를 호출합니다.\n",
    "print(mul(5, 7, 9, 10))"
   ]
  }
 ],
 "metadata": {
  "kernelspec": {
   "display_name": "Python 3 (ipykernel)",
   "language": "python",
   "name": "python3"
  },
  "language_info": {
   "codemirror_mode": {
    "name": "ipython",
    "version": 3
   },
   "file_extension": ".py",
   "mimetype": "text/x-python",
   "name": "python",
   "nbconvert_exporter": "python",
   "pygments_lexer": "ipython3",
   "version": "3.8.5"
  }
 },
 "nbformat": 4,
 "nbformat_minor": 5
}
