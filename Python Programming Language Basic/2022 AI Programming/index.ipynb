{
 "cells": [
  {
   "cell_type": "code",
   "execution_count": 1,
   "id": "042de973",
   "metadata": {},
   "outputs": [],
   "source": [
    "# index는 '색인' 이라는 뜻으로, 문자열 리스트에서 그 값의 위치를 알려주는 함수이다."
   ]
  },
  {
   "cell_type": "code",
   "execution_count": 2,
   "id": "67d4f5dd",
   "metadata": {},
   "outputs": [
    {
     "name": "stdout",
     "output_type": "stream",
     "text": [
      " \n",
      "수\n",
      "재\n"
     ]
    }
   ],
   "source": [
    "cod = '나는 미래에 우수한 인재가 될 것이다'\n",
    "print(cod[6])\n",
    "print(cod[8])\n",
    "print(cod[12])"
   ]
  },
  {
   "cell_type": "code",
   "execution_count": 4,
   "id": "5046e9db",
   "metadata": {},
   "outputs": [
    {
     "name": "stdout",
     "output_type": "stream",
     "text": [
      "2\n",
      "8\n",
      "12\n"
     ]
    }
   ],
   "source": [
    "hi = '나는 미래에 우수한 인재가 될 것이다'\n",
    "print(hi.index(' '))\n",
    "print(hi.index('수'))\n",
    "print(hi.index('재'))"
   ]
  }
 ],
 "metadata": {
  "kernelspec": {
   "display_name": "Python 3 (ipykernel)",
   "language": "python",
   "name": "python3"
  },
  "language_info": {
   "codemirror_mode": {
    "name": "ipython",
    "version": 3
   },
   "file_extension": ".py",
   "mimetype": "text/x-python",
   "name": "python",
   "nbconvert_exporter": "python",
   "pygments_lexer": "ipython3",
   "version": "3.8.5"
  }
 },
 "nbformat": 4,
 "nbformat_minor": 5
}
