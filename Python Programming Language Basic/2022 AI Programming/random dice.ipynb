{
 "cells": [
  {
   "cell_type": "code",
   "execution_count": 2,
   "id": "0d366481",
   "metadata": {},
   "outputs": [
    {
     "name": "stdout",
     "output_type": "stream",
     "text": [
      "동전 던지기 게임을 시작합니다.\n",
      "뒷면입니다\n",
      "게임이 종료되었습니다.\n"
     ]
    }
   ],
   "source": [
    "import random\n",
    "\n",
    "print('동전 던지기 게임을 시작합니다.')\n",
    "\n",
    "coin = random.randrange(2)\n",
    "if coin == 0:\n",
    "    print(\"앞면입니다\")\n",
    "    print(\"게임이 종료되었습니다.\")\n",
    "    \n",
    "else :\n",
    "    print(\"뒷면입니다\")\n",
    "    print(\"게임이 종료되었습니다.\")"
   ]
  }
 ],
 "metadata": {
  "kernelspec": {
   "display_name": "Python 3 (ipykernel)",
   "language": "python",
   "name": "python3"
  },
  "language_info": {
   "codemirror_mode": {
    "name": "ipython",
    "version": 3
   },
   "file_extension": ".py",
   "mimetype": "text/x-python",
   "name": "python",
   "nbconvert_exporter": "python",
   "pygments_lexer": "ipython3",
   "version": "3.8.5"
  }
 },
 "nbformat": 4,
 "nbformat_minor": 5
}
