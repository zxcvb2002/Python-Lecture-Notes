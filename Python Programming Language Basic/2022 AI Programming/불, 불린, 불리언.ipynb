{
 "cells": [
  {
   "cell_type": "code",
   "execution_count": 1,
   "id": "9c5e010b",
   "metadata": {},
   "outputs": [
    {
     "name": "stdout",
     "output_type": "stream",
     "text": [
      "True\n",
      "False\n",
      "under_20: True\n",
      "not under_20: False\n",
      "under_20: False\n",
      "not under_20: True\n",
      "True\n",
      "False\n",
      "False\n",
      "False\n",
      "True\n",
      "True\n",
      "True\n",
      "False\n"
     ]
    }
   ],
   "source": [
    "# 불 / 불리언 / 불린 (Boolean)\n",
    "#True & False 값 만 가질 수 있음\n",
    "\n",
    "print(True)\n",
    "print(False)\n",
    "\n",
    "#비교 연산자를 통해 만들 수 있다.\n",
    "# == (같다) , != (다르다) , < , <= , > , >=\n",
    "\n",
    "#문자열에도 비교 연산자 적용 가능\n",
    "\n",
    "x = 10\n",
    "under_20 = x < 20\n",
    "print(\"under_20:\" , under_20)\n",
    "print(\"not under_20:\" , not under_20)\n",
    "\n",
    "x = 25\n",
    "under_20 = x < 20\n",
    "print(\"under_20:\" , under_20)\n",
    "print(\"not under_20:\" , not under_20)\n",
    "\n",
    "\n",
    "\n",
    "print(True and True)\n",
    "print(True and False)\n",
    "print(False and True)\n",
    "print(False and False)\n",
    "\n",
    "print(True or True)\n",
    "print(True or False)\n",
    "print(False or True)\n",
    "print(False or False)"
   ]
  },
  {
   "cell_type": "code",
   "execution_count": 2,
   "id": "7e911fa8",
   "metadata": {},
   "outputs": [
    {
     "ename": "SyntaxError",
     "evalue": "invalid syntax (3667112101.py, line 3)",
     "output_type": "error",
     "traceback": [
      "\u001b[0;36m  Input \u001b[0;32mIn [2]\u001b[0;36m\u001b[0m\n\u001b[0;31m    not\u001b[0m\n\u001b[0m       ^\u001b[0m\n\u001b[0;31mSyntaxError\u001b[0m\u001b[0;31m:\u001b[0m invalid syntax\n"
     ]
    }
   ],
   "source": [
    "# 불끼리 논리 연산자 사용 가능\n",
    "\n",
    "not\n",
    "and\n",
    "or"
   ]
  },
  {
   "cell_type": "code",
   "execution_count": 3,
   "id": "cc3c07a8",
   "metadata": {},
   "outputs": [
    {
     "name": "stdout",
     "output_type": "stream",
     "text": [
      "False\n",
      "True\n"
     ]
    }
   ],
   "source": [
    "# not 연산자\n",
    "\n",
    "# 단항 연산자\n",
    "\n",
    "# 참과 거짓을 반대로 바꿈\n",
    "\n",
    "print(not True)\n",
    "\n",
    "print(not False)"
   ]
  }
 ],
 "metadata": {
  "kernelspec": {
   "display_name": "Python 3 (ipykernel)",
   "language": "python",
   "name": "python3"
  },
  "language_info": {
   "codemirror_mode": {
    "name": "ipython",
    "version": 3
   },
   "file_extension": ".py",
   "mimetype": "text/x-python",
   "name": "python",
   "nbconvert_exporter": "python",
   "pygments_lexer": "ipython3",
   "version": "3.8.5"
  }
 },
 "nbformat": 4,
 "nbformat_minor": 5
}
