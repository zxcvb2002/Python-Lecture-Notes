{
 "cells": [
  {
   "cell_type": "code",
   "execution_count": 4,
   "id": "c0198725",
   "metadata": {},
   "outputs": [],
   "source": [
    "# if 조건문 - 조건에 따라 코드를 실행하거나 실행하지 않게 할 때 사용하는 구문"
   ]
  },
  {
   "cell_type": "code",
   "execution_count": 6,
   "id": "117aad14",
   "metadata": {},
   "outputs": [
    {
     "name": "stdout",
     "output_type": "stream",
     "text": [
      "정수 입력1\n"
     ]
    }
   ],
   "source": [
    "# 입력을 받습니다.\n",
    "number = input(\"정수 입력\")\n",
    "number = int(number)"
   ]
  },
  {
   "cell_type": "code",
   "execution_count": 8,
   "id": "e242d054",
   "metadata": {},
   "outputs": [
    {
     "name": "stdout",
     "output_type": "stream",
     "text": [
      "정수 입력0\n",
      "0입니다\n"
     ]
    }
   ],
   "source": [
    "number = int(input(\"정수 입력\"))\n",
    "\n",
    "# 양수 조건\n",
    "if number > 0:\n",
    "    print(\"양수입니다\")\n",
    "    \n",
    "# 음수 조건\n",
    "if number < 0:\n",
    "    print(\"음수입니다\")\n",
    "    \n",
    "# 0 조건\n",
    "if number == 0:\n",
    "    print(\"0입니다\")"
   ]
  },
  {
   "cell_type": "code",
   "execution_count": 7,
   "id": "9b9e3298",
   "metadata": {},
   "outputs": [
    {
     "name": "stdout",
     "output_type": "stream",
     "text": [
      "2022 년\n",
      "9 월\n",
      "26 일\n",
      "23 시\n",
      "0 분\n",
      "37 초\n"
     ]
    }
   ],
   "source": [
    "# 날짜/시간 출력하기\n",
    "\n",
    "# datetime.datetime.now() 함수\n",
    "\n",
    "# 날짜/시간과 관련된 기능을 가져옵니다\n",
    "import datetime\n",
    "\n",
    "#현재 날씨를 구합니다.\n",
    "now = datetime.datetime.now()\n",
    "\n",
    "# 출력합니다.\n",
    "\n",
    "print(now.year, \"년\")\n",
    "print(now.month, \"월\")\n",
    "print(now.day, \"일\")\n",
    "print(now.hour, \"시\")\n",
    "print(now.minute, \"분\")\n",
    "print(now.second, \"초\")"
   ]
  },
  {
   "cell_type": "code",
   "execution_count": 8,
   "id": "a92e1ca0",
   "metadata": {},
   "outputs": [
    {
     "name": "stdout",
     "output_type": "stream",
     "text": [
      "2022년 9월 26일 23시 0분 44초.\n"
     ]
    }
   ],
   "source": [
    "# 날짜/시간과 관련된 기능을 가져옵니다.\n",
    "import datetime\n",
    "\n",
    "# 현재 날짜/시간을 구합니다.\n",
    "now = datetime.datetime.now()\n",
    "\n",
    "# 출력합니다.\n",
    "print(\"{}년 {}월 {}일 {}시 {}분 {}초.\".format(\n",
    "    now.year,\n",
    "    now.month,\n",
    "    now.day,\n",
    "    now.hour,\n",
    "    now.minute,\n",
    "    now.second\n",
    "))"
   ]
  },
  {
   "cell_type": "code",
   "execution_count": 9,
   "id": "f562edcd",
   "metadata": {},
   "outputs": [
    {
     "ename": "IndentationError",
     "evalue": "expected an indented block (578702213.py, line 9)",
     "output_type": "error",
     "traceback": [
      "\u001b[0;36m  Input \u001b[0;32mIn [9]\u001b[0;36m\u001b[0m\n\u001b[0;31m    ~\u001b[0m\n\u001b[0m    ^\u001b[0m\n\u001b[0;31mIndentationError\u001b[0m\u001b[0;31m:\u001b[0m expected an indented block\n"
     ]
    }
   ],
   "source": [
    "# 날짜/시간과 관련된 기능을 가져옵니다.\n",
    "import datetime\n",
    "\n",
    "# 현재 날짜/시간을 구합니다.\n",
    "now = datetime.datetime.now()\n",
    "\n",
    "# 오전 구분\n",
    "if now.hour < 12:\n",
    "~\n",
    "\n",
    "# 오후 구분\n",
    "\n",
    "if now.hour > 12:\n",
    "~"
   ]
  },
  {
   "cell_type": "code",
   "execution_count": 10,
   "id": "818ee491",
   "metadata": {},
   "outputs": [
    {
     "name": "stdout",
     "output_type": "stream",
     "text": [
      "이번 달은 9월로 가을입니다\n"
     ]
    }
   ],
   "source": [
    "# 날짜/시간과 관련된 기능을 가져옵니다.\n",
    "import datetime\n",
    "\n",
    "# 현재 날짜/시간을 구합니다.\n",
    "now = datetime.datetime.now()\n",
    "\n",
    "# 봄 구분\n",
    "if 3 <= now.month <= 5:\n",
    "    print(\"이번 달은 {}월로 봄입니다\".format(now.month))\n",
    "\n",
    "# 여름 구분\n",
    "if 6 <= now.month <= 8:\n",
    "    print(\"이번 달은 {}월로 여름입니다\".format(now.month))\n",
    "\n",
    "# 가을 구분\n",
    "if 9 <= now.month <= 11:\n",
    "    print(\"이번 달은 {}월로 가을입니다\".format(now.month))\n",
    "\n",
    "# 겨울 구분\n",
    "if 12 <= now.month <= 2:\n",
    "    print(\"이번 달은 {}월로 겨울입니다\".format(now.month))"
   ]
  },
  {
   "cell_type": "code",
   "execution_count": 11,
   "id": "3f519c9b",
   "metadata": {},
   "outputs": [
    {
     "name": "stdout",
     "output_type": "stream",
     "text": [
      "이번 달은 9월로 가을입니다\n"
     ]
    }
   ],
   "source": [
    "# 날짜/시간과 관련된 기능을 가져옵니다.\n",
    "import datetime\n",
    "\n",
    "# 현재 날짜/시간을 구합니다.\n",
    "now = datetime.datetime.now()\n",
    "\n",
    "# 봄 구분\n",
    "if 3 <= now.month <= 5:\n",
    "    print(\"이번 달은 {}월로 봄입니다\".format(now.month))\n",
    "\n",
    "# 여름 구분\n",
    "elif 6 <= now.month <= 8:\n",
    "    print(\"이번 달은 {}월로 여름입니다\".format(now.month))\n",
    "\n",
    "# 가을 구분\n",
    "elif 9 <= now.month <= 11:\n",
    "    print(\"이번 달은 {}월로 가을입니다\".format(now.month))\n",
    "\n",
    "# 겨울 구분\n",
    "elif 12 <= now.month <= 2:\n",
    "    print(\"이번 달은 {}월로 겨울입니다\".format(now.month))"
   ]
  },
  {
   "cell_type": "code",
   "execution_count": 1,
   "id": "177b470d",
   "metadata": {},
   "outputs": [
    {
     "name": "stdout",
     "output_type": "stream",
     "text": [
      "현재는 가을입니다.\n"
     ]
    }
   ],
   "source": [
    "# 날짜/시간과 관련된 기능을 가져옵니다.\n",
    "import datetime\n",
    "\n",
    "# 현재 날짜/시간을 구합니다.\n",
    "now = datetime.datetime.now()\n",
    "month = now.month\n",
    "\n",
    "# 봄 구분\n",
    "if 3 <= month <= 5:\n",
    "    print(\"현재는 봄입니다.\")\n",
    "\n",
    "# 여름 구분\n",
    "elif 6 <= month <= 8:\n",
    "    print(\"현재는 여름입니다.\")\n",
    "\n",
    "# 가을 구분\n",
    "elif 9 <= month <= 11:\n",
    "    print(\"현재는 가을입니다.\")\n",
    "\n",
    "# 겨울 구분\n",
    "else:\n",
    "    print(\"현재는 겨울입니다.\")"
   ]
  },
  {
   "cell_type": "code",
   "execution_count": null,
   "id": "24c00e4e",
   "metadata": {},
   "outputs": [],
   "source": [
    "# if 조건문의 형식\n",
    "\n",
    "# 입력을 받습니다.\n",
    "number = input(\"정수 입력: \")\n",
    "\n",
    "# 마지막 자리 숫자를 추출\n",
    "last_character = number[-1]\n",
    "\n",
    "# 숫자로 변환하기\n",
    "last_number = int(last_character)\n",
    "\n",
    "#짝수 확인\n",
    "if last_number == 0 \\\n",
    "    or last_number == 2 \\\n",
    "    or last_number == 4 \\\n",
    "    or last_number == 6 \\\n",
    "    or last_number == 8:\n",
    "    \n",
    "    print(\"짝수입니다.\")\n",
    "    \n",
    "#홀수 확인\n",
    "if last_number == 1 \\\n",
    "    or last_number == 3 \\\n",
    "    or last_number == 5 \\\n",
    "    or last_number == 7 \\\n",
    "    or last_number == 9:\n",
    "    \n",
    "    print(\"홀수입니다.\")"
   ]
  },
  {
   "cell_type": "code",
   "execution_count": 48,
   "id": "772dcd1a",
   "metadata": {},
   "outputs": [
    {
     "name": "stdout",
     "output_type": "stream",
     "text": [
      "정수 입력: 0\n",
      "0입니다.\n"
     ]
    }
   ],
   "source": [
    "# if 조건문의 형식\n",
    "\n",
    "# 입력을 받습니다.\n",
    "number = input(\"정수 입력: \")\n",
    "\n",
    "# 첫 자리 숫자를 추출\n",
    "first_number = number[0]\n",
    "\n",
    "# 마지막 자리 숫자를 추출\n",
    "last_character = number[-1]\n",
    "\n",
    "# 숫자로 변환하기\n",
    "last_number = int(last_character)\n",
    "\n",
    "#음수 확인\n",
    "if first_number in \"-\":\n",
    "    \n",
    "    print(\"음수입니다.\")\n",
    "\n",
    "#0 확인\n",
    "elif first_number in \"0\":\n",
    "    \n",
    "    print(\"0입니다.\")\n",
    "\n",
    "#짝수 확인\n",
    "elif last_number == 0 \\\n",
    "    or last_number == 2 \\\n",
    "    or last_number == 4 \\\n",
    "    or last_number == 6 \\\n",
    "    or last_number == 8:\n",
    "    \n",
    "    print(\"짝수입니다.\")\n",
    "    \n",
    "#홀수 확인\n",
    "elif last_number == 1 \\\n",
    "    or last_number == 3 \\\n",
    "    or last_number == 5 \\\n",
    "    or last_number == 7 \\\n",
    "    or last_number == 9:\n",
    "    \n",
    "    print(\"홀수입니다.\")"
   ]
  },
  {
   "cell_type": "code",
   "execution_count": 54,
   "id": "937f8a75",
   "metadata": {},
   "outputs": [
    {
     "name": "stdout",
     "output_type": "stream",
     "text": [
      "정수 입력: -37\n",
      "음수입니다.\n",
      "홀수입니다.\n"
     ]
    }
   ],
   "source": [
    "# if 조건문의 형식\n",
    "\n",
    "# 입력을 받습니다.\n",
    "number = input(\"정수 입력: \")\n",
    "\n",
    "# 첫 자리 숫자를 추출\n",
    "first_number = number[0]\n",
    "\n",
    "# 마지막 자리 숫자를 추출\n",
    "last_character = number[-1]\n",
    "\n",
    "# 숫자로 변환하기\n",
    "last_number = int(last_character)\n",
    "\n",
    "#음수 확인\n",
    "if first_number in \"-\":\n",
    "    \n",
    "    print(\"음수입니다.\")\n",
    "\n",
    "#0 확인\n",
    "if first_number in \"0\":\n",
    "    \n",
    "    print(\"0입니다.\")\n",
    "\n",
    "#짝수 확인\n",
    "if last_number == 0 \\\n",
    "    or last_number == 2 \\\n",
    "    or last_number == 4 \\\n",
    "    or last_number == 6 \\\n",
    "    or last_number == 8:\n",
    "    \n",
    "    print(\"짝수입니다.\")\n",
    "    \n",
    "#홀수 확인\n",
    "if last_number == 1 \\\n",
    "    or last_number == 3 \\\n",
    "    or last_number == 5 \\\n",
    "    or last_number == 7 \\\n",
    "    or last_number == 9:\n",
    "    \n",
    "    print(\"홀수입니다.\")"
   ]
  },
  {
   "cell_type": "code",
   "execution_count": 51,
   "id": "e4ea1db2",
   "metadata": {},
   "outputs": [
    {
     "name": "stdout",
     "output_type": "stream",
     "text": [
      "정수 입력> 97\n",
      "홀수입니다.\n"
     ]
    }
   ],
   "source": [
    "# if 조건문의 형식\n",
    "\n",
    "# 입력을 받습니다.\n",
    "number = input(\"정수 입력> \")\n",
    "\n",
    "# 마지막 자리 숫자를 추출\n",
    "last_character = number[-1]\n",
    "\n",
    "# 첫째 자리 문자를 추출\n",
    "first_character = number[0]\n",
    "\n",
    "# 숫자로 변환하기\n",
    "last_number = int(last_character)\n",
    "\n",
    "#음수 확인\n",
    "if first_character in \"-\":\n",
    "    print(\"음수입니다.\")\n",
    "\n",
    "elif last_number == 0 \\\n",
    "    or last_number == 2 \\\n",
    "    or last_number == 4 \\\n",
    "    or last_number == 6 \\\n",
    "    or last_number == 8:\n",
    "    \n",
    "    print(\"짝수입니다.\")\n",
    "    \n",
    "#홀수 확인\n",
    "else: print(\"홀수입니다.\")"
   ]
  },
  {
   "cell_type": "code",
   "execution_count": 57,
   "id": "0715d413",
   "metadata": {},
   "outputs": [
    {
     "name": "stdout",
     "output_type": "stream",
     "text": [
      "정수 입력: 0\n",
      "0입니다.\n",
      "짝수입니다.\n"
     ]
    }
   ],
   "source": [
    "number = input(\"정수 입력: \")\n",
    "\n",
    "first_number = number[0]\n",
    "\n",
    "last_character = number[-1]\n",
    "\n",
    "if first_number in \"-\":\n",
    "\n",
    "    print(\"음수입니다.\")\n",
    "\n",
    "if first_number in \"0\":\n",
    "\n",
    "    print(\"0입니다.\")\n",
    "\n",
    "if last_character in \"02468\":\n",
    "\n",
    "    print(\"짝수입니다.\")\n",
    "\n",
    "if last_character in \"13579\":\n",
    "\n",
    "    print(\"홀수입니다.\")"
   ]
  },
  {
   "cell_type": "code",
   "execution_count": 60,
   "id": "7e662d63",
   "metadata": {},
   "outputs": [
    {
     "name": "stdout",
     "output_type": "stream",
     "text": [
      "정수 입력: -100\n",
      "음수입니다.\n"
     ]
    }
   ],
   "source": [
    "number = input(\"정수 입력: \")\n",
    "\n",
    "first_number = number[0]\n",
    "\n",
    "last_character = number[-1]\n",
    "\n",
    "if first_number in \"-\":\n",
    "\n",
    "    print(\"음수입니다.\")\n",
    "\n",
    "elif first_number in \"0\":\n",
    "\n",
    "    print(\"0입니다.\")\n",
    "\n",
    "elif last_character in \"02468\":\n",
    "\n",
    "    print(\"짝수입니다.\")\n",
    "\n",
    "elif last_character in \"13579\":\n",
    "\n",
    "    print(\"홀수입니다.\")"
   ]
  },
  {
   "cell_type": "code",
   "execution_count": 15,
   "id": "646e1594",
   "metadata": {},
   "outputs": [
    {
     "name": "stdout",
     "output_type": "stream",
     "text": [
      "정수 입력> 3\n",
      "홀수입니다.\n"
     ]
    }
   ],
   "source": [
    "# in (문자열) 연산자를 활용한 윗 코드의 간략화된 수정\n",
    "\n",
    "# 입력을 받습니다.\n",
    "number = input(\"정수 입력> \")\n",
    "\n",
    "# 마지막 자리 숫자를 추출\n",
    "last_character = number[-1]\n",
    "\n",
    "#짝수 조건\n",
    "if last_character in \"02468\" :\n",
    "    print(\"짝수입니다.\")\n",
    "    \n",
    "#홀수 조건\n",
    "if last_character in \"13579\" :\n",
    "    print(\"홀수입니다.\")"
   ]
  },
  {
   "cell_type": "code",
   "execution_count": 14,
   "id": "fa6c7b1d",
   "metadata": {},
   "outputs": [
    {
     "name": "stdout",
     "output_type": "stream",
     "text": [
      "정수 입력> 1\n",
      "짝수입니다.\n"
     ]
    }
   ],
   "source": [
    "# 나머지 연산자를 활용한 짝수와 홀수 구분\n",
    "\n",
    "# 입력을 받습니다.\n",
    "number = input(\"정수 입력> \")\n",
    "number = int(number)\n",
    "\n",
    "#짝수 조건\n",
    "if number % 2 == 0:\n",
    "    print(\"짝수입니다.\")\n",
    "    \n",
    "#홀수 조건\n",
    "if number % 2 == 1:\n",
    "    print(\"짝수입니다.\")"
   ]
  },
  {
   "cell_type": "code",
   "execution_count": 1,
   "id": "93b49c6d",
   "metadata": {},
   "outputs": [],
   "source": [
    "# bool자료형과 조건문 2"
   ]
  },
  {
   "cell_type": "code",
   "execution_count": 2,
   "id": "ba03ecb1",
   "metadata": {},
   "outputs": [
    {
     "name": "stdout",
     "output_type": "stream",
     "text": [
      "정수 입력: 2\n",
      "짝수입니다.\n"
     ]
    }
   ],
   "source": [
    "number = input(\"정수 입력: \") # (2)로 변환 가능\n",
    "number = int(number)\n",
    "\n",
    "if number % 2 == 0:\n",
    "    print(\"짝수입니다.\")\n",
    "    \n",
    "if number % 2 == 1:\n",
    "    print(\"홀수입니다.\")"
   ]
  },
  {
   "cell_type": "code",
   "execution_count": 3,
   "id": "00989443",
   "metadata": {},
   "outputs": [
    {
     "ename": "SyntaxError",
     "evalue": "invalid syntax (1368287706.py, line 5)",
     "output_type": "error",
     "traceback": [
      "\u001b[0;36m  Input \u001b[0;32mIn [3]\u001b[0;36m\u001b[0m\n\u001b[0;31m    ~조건이 참일 떄 실행할 문장\u001b[0m\n\u001b[0m         ^\u001b[0m\n\u001b[0;31mSyntaxError\u001b[0m\u001b[0;31m:\u001b[0m invalid syntax\n"
     ]
    }
   ],
   "source": [
    "# else 조건문\n",
    "# if 조건문 뒤에 사용하며, if 조건문의 조건이 거짓일 때 실행되는 부분\n",
    "\n",
    "if 조건:\n",
    "    ~조건이 참일 떄 실행할 문장\n",
    "else:\n",
    "    ~조건이 거짓일 때 실행할 문장"
   ]
  },
  {
   "cell_type": "code",
   "execution_count": 4,
   "id": "6747fe35",
   "metadata": {},
   "outputs": [
    {
     "name": "stdout",
     "output_type": "stream",
     "text": [
      "정수 입력: 4\n",
      "짝수입니다.\n"
     ]
    }
   ],
   "source": [
    "number = int(input(\"정수 입력: \")) # (1)로 변환 가능\n",
    "\n",
    "if number % 2 == 0:\n",
    "    print(\"짝수입니다.\")\n",
    "else:\n",
    "    print(\"홀수입니다.\")"
   ]
  },
  {
   "cell_type": "code",
   "execution_count": 8,
   "id": "fa5177c5",
   "metadata": {},
   "outputs": [
    {
     "ename": "SyntaxError",
     "evalue": "invalid syntax (1588246588.py, line 6)",
     "output_type": "error",
     "traceback": [
      "\u001b[0;36m  Input \u001b[0;32mIn [8]\u001b[0;36m\u001b[0m\n\u001b[0;31m    ~조건A가 참일 때 실행할 문장\u001b[0m\n\u001b[0m          ^\u001b[0m\n\u001b[0;31mSyntaxError\u001b[0m\u001b[0;31m:\u001b[0m invalid syntax\n"
     ]
    }
   ],
   "source": [
    "# elif 구문\n",
    "# 세 개 이상의 조건을 연결해서 사용\n",
    "# if 조건문과 else 구문 사이에 입력\n",
    "\n",
    "if 조건A:\n",
    "    ~조건A가 참일 때 실행할 문장\n",
    "elif 조건B:\n",
    "    ~조건B가 참일 때 실행할 문장\n",
    "elif 조건C:\n",
    "    ~조건C가 참일 때 실행할 문장\n",
    "...\n",
    "else:\n",
    "    ~모든 조건이 참이 아닐 때 실행할 문장"
   ]
  },
  {
   "cell_type": "code",
   "execution_count": 6,
   "id": "ca46f9ae",
   "metadata": {},
   "outputs": [
    {
     "name": "stdout",
     "output_type": "stream",
     "text": [
      "학점 입력: 4.33\n",
      "반액 장학금\n"
     ]
    }
   ],
   "source": [
    "score = float(input(\"학점 입력: \"))\n",
    "\n",
    "if score == 4.5:\n",
    "    print(\"전액 장학금\")\n",
    "elif 4.3 <= score < 4.5:\n",
    "    print(\"반액 장학금\")\n",
    "elif 4.0 <= score < 4.3:\n",
    "    print(\"성적 장학금\")"
   ]
  },
  {
   "cell_type": "code",
   "execution_count": 10,
   "id": "2e78fb85",
   "metadata": {},
   "outputs": [
    {
     "name": "stdout",
     "output_type": "stream",
     "text": [
      "학점 입력: 4.33\n"
     ]
    },
    {
     "ename": "TypeError",
     "evalue": "'<=' not supported between instances of 'float' and 'str'",
     "output_type": "error",
     "traceback": [
      "\u001b[0;31m---------------------------------------------------------------------------\u001b[0m",
      "\u001b[0;31mTypeError\u001b[0m                                 Traceback (most recent call last)",
      "Input \u001b[0;32mIn [10]\u001b[0m, in \u001b[0;36m<cell line: 3>\u001b[0;34m()\u001b[0m\n\u001b[1;32m      3\u001b[0m \u001b[38;5;28;01mif\u001b[39;00m score \u001b[38;5;241m==\u001b[39m \u001b[38;5;241m4.5\u001b[39m:\n\u001b[1;32m      4\u001b[0m     \u001b[38;5;28mprint\u001b[39m(\u001b[38;5;124m\"\u001b[39m\u001b[38;5;124m전액 장학금\u001b[39m\u001b[38;5;124m\"\u001b[39m)\n\u001b[0;32m----> 5\u001b[0m \u001b[38;5;28;01melif\u001b[39;00m \u001b[38;5;241m4.3\u001b[39m \u001b[38;5;241m<\u001b[39m\u001b[38;5;241m=\u001b[39m score \u001b[38;5;241m<\u001b[39m \u001b[38;5;241m4.5\u001b[39m:\n\u001b[1;32m      6\u001b[0m     \u001b[38;5;28mprint\u001b[39m(\u001b[38;5;124m\"\u001b[39m\u001b[38;5;124m반액 장학금\u001b[39m\u001b[38;5;124m\"\u001b[39m)\n\u001b[1;32m      7\u001b[0m \u001b[38;5;28;01melif\u001b[39;00m \u001b[38;5;241m4.0\u001b[39m \u001b[38;5;241m<\u001b[39m\u001b[38;5;241m=\u001b[39m score \u001b[38;5;241m<\u001b[39m \u001b[38;5;241m4.3\u001b[39m:\n",
      "\u001b[0;31mTypeError\u001b[0m: '<=' not supported between instances of 'float' and 'str'"
     ]
    }
   ],
   "source": [
    "score = input(\"학점 입력: \")\n",
    "\n",
    "if score == 4.5:\n",
    "    print(\"전액 장학금\")\n",
    "elif 4.3 <= score < 4.5:\n",
    "    print(\"반액 장학금\")\n",
    "elif 4.0 <= score < 4.3:\n",
    "    print(\"성적 장학금\")"
   ]
  },
  {
   "cell_type": "code",
   "execution_count": 11,
   "id": "30629744",
   "metadata": {},
   "outputs": [],
   "source": [
    "# indentationError\n",
    "\n",
    "# if 조건문 사이에는 무조건 들여쓰기 4칸(tab)(->|) 넣고 코드 작성해야 함"
   ]
  }
 ],
 "metadata": {
  "kernelspec": {
   "display_name": "Python 3 (ipykernel)",
   "language": "python",
   "name": "python3"
  },
  "language_info": {
   "codemirror_mode": {
    "name": "ipython",
    "version": 3
   },
   "file_extension": ".py",
   "mimetype": "text/x-python",
   "name": "python",
   "nbconvert_exporter": "python",
   "pygments_lexer": "ipython3",
   "version": "3.8.5"
  }
 },
 "nbformat": 4,
 "nbformat_minor": 5
}
