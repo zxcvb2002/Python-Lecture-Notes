{
 "cells": [
  {
   "cell_type": "code",
   "execution_count": 1,
   "id": "b05d6418",
   "metadata": {},
   "outputs": [],
   "source": [
    "# Quiz 1"
   ]
  },
  {
   "cell_type": "code",
   "execution_count": 68,
   "id": "2f1434e7",
   "metadata": {},
   "outputs": [
    {
     "name": "stdout",
     "output_type": "stream",
     "text": [
      "num1:01037437035\n",
      "num2:01037447035\n",
      "1076285975959941225\n"
     ]
    }
   ],
   "source": [
    "num1 = int(input(\"num1:\"))\n",
    "num2 = int(input(\"num2:\"))\n",
    "\n",
    "def multiply(num1,num2):\n",
    "    print(num1*num2)\n",
    "    \n",
    "multiply(num1,num2)"
   ]
  },
  {
   "cell_type": "code",
   "execution_count": 2,
   "id": "b0e4b08b",
   "metadata": {},
   "outputs": [
    {
     "name": "stdout",
     "output_type": "stream",
     "text": [
      "x값 입력: 01037437035\n",
      "y값 입력: 01037447035\n"
     ]
    },
    {
     "data": {
      "text/plain": [
       "1076285975959941225"
      ]
     },
     "execution_count": 2,
     "metadata": {},
     "output_type": "execute_result"
    }
   ],
   "source": [
    "def num():\n",
    "    x = int(input(\"x값 입력: \"))\n",
    "    y = int(input(\"y값 입력: \"))\n",
    "    return x*y\n",
    "num()"
   ]
  },
  {
   "cell_type": "code",
   "execution_count": 2,
   "id": "60fcbff2",
   "metadata": {},
   "outputs": [],
   "source": [
    "# Quiz 2"
   ]
  },
  {
   "cell_type": "code",
   "execution_count": 5,
   "id": "c8f13105",
   "metadata": {},
   "outputs": [
    {
     "name": "stdout",
     "output_type": "stream",
     "text": [
      "5050\n"
     ]
    }
   ],
   "source": [
    "def sum(x,y):\n",
    "    z = 0\n",
    "    for i in range(x,y+1):\n",
    "        z += i\n",
    "    return z\n",
    "num = sum(1,100)\n",
    "print(num)"
   ]
  }
 ],
 "metadata": {
  "kernelspec": {
   "display_name": "Python 3 (ipykernel)",
   "language": "python",
   "name": "python3"
  },
  "language_info": {
   "codemirror_mode": {
    "name": "ipython",
    "version": 3
   },
   "file_extension": ".py",
   "mimetype": "text/x-python",
   "name": "python",
   "nbconvert_exporter": "python",
   "pygments_lexer": "ipython3",
   "version": "3.8.5"
  }
 },
 "nbformat": 4,
 "nbformat_minor": 5
}
