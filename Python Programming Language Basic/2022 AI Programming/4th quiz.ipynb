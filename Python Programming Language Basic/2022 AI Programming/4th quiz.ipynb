{
 "cells": [
  {
   "cell_type": "code",
   "execution_count": 20,
   "id": "1d3c738a",
   "metadata": {},
   "outputs": [],
   "source": [
    "# Quiz 1\n",
    "\n",
    "# input함수를 사용하여 숫자를 불러오고 조건문(if-else)을 사용하여 불러온 숫자가 홀수인지 짝수인지를 출력하여라.\n",
    "\n",
    "# 출력 문자 : 홀수입니다 또는 짝수입니다"
   ]
  },
  {
   "cell_type": "code",
   "execution_count": 21,
   "id": "b2fd7d0c",
   "metadata": {},
   "outputs": [
    {
     "name": "stdout",
     "output_type": "stream",
     "text": [
      "숫자 불러오기 : 4\n",
      "짝수\n"
     ]
    }
   ],
   "source": [
    "# 문자열 연산자\n",
    "# 비효율적\n",
    "\n",
    "number = input(\"숫자 불러오기 : \")\n",
    "last_character = number[-1]\n",
    "\n",
    "if last_character in \"02468\" :\n",
    "    print(\"짝수\")\n",
    "    \n",
    "else :\n",
    "    print(\"홀수\")"
   ]
  },
  {
   "cell_type": "code",
   "execution_count": 6,
   "id": "56bcd700",
   "metadata": {},
   "outputs": [
    {
     "name": "stdout",
     "output_type": "stream",
     "text": [
      "숫자 불러오기: 4\n",
      "짝수입니다.\n"
     ]
    }
   ],
   "source": [
    "# 나머지 연산자 - 음수 배제\n",
    "# 효율적\n",
    "\n",
    "number = input(\"숫자 불러오기: \")\n",
    "number = int(number)\n",
    "\n",
    "if number == 0:\n",
    "    print(\"0입니다.\")\n",
    "elif number % 2 == 1:\n",
    "    print(\"홀수입니다.\")\n",
    "else:\n",
    "    print(\"짝수입니다.\")"
   ]
  },
  {
   "cell_type": "code",
   "execution_count": 17,
   "id": "f0c83112",
   "metadata": {},
   "outputs": [
    {
     "name": "stdout",
     "output_type": "stream",
     "text": [
      "숫자 불러오기: 5\n",
      "양의 홀수입니다.\n"
     ]
    }
   ],
   "source": [
    "# 나머지 연산자 - 음수 고려\n",
    "# 효율적\n",
    "\n",
    "number = input(\"숫자 불러오기: \")\n",
    "number = int(number)\n",
    "\n",
    "if number == 0:\n",
    "    print(\"0입니다.\")\n",
    "elif number % 2 == 1:\n",
    "    if number > 0:\n",
    "        print(\"양의 홀수입니다.\")\n",
    "    else:\n",
    "        print(\"음의 홀수입니다.\")\n",
    "else:\n",
    "    if number > 0:\n",
    "        print(\"양의 짝수입니다.\")\n",
    "    else:\n",
    "        print(\"음의 짝수입니다.\")"
   ]
  },
  {
   "cell_type": "code",
   "execution_count": 7,
   "id": "25eb028d",
   "metadata": {},
   "outputs": [
    {
     "name": "stdout",
     "output_type": "stream",
     "text": [
      "점수 입력 : 70.1\n",
      "c\n"
     ]
    }
   ],
   "source": [
    "# Quiz 2\n",
    "\n",
    "#input함수를 사용하여 점수를 불러오고 조건문(if-else-else)문을 사용하여 점수에 학점을 출력하여라( 90점 이상 A, 80점 이상 B, 70점 이상 C, 60점 이상 D, 그 외에는 F)\n",
    "\n",
    "score = float(input(\"점수 입력 : \")) #소수점 점수를 포함해야 하기에, int() 대신 float()\n",
    "\n",
    "if score == 100:\n",
    "    print(\"A\")\n",
    "elif 90 <= score < 100 :\n",
    "    print(\"A\")\n",
    "elif 80 <= score < 90 :\n",
    "    print(\"B\")\n",
    "elif 70 <= score < 80 :\n",
    "    print(\"c\")\n",
    "elif 60 <= score < 70 :\n",
    "    print(\"D\") \n",
    "elif score :\n",
    "    print(\"F\")"
   ]
  }
 ],
 "metadata": {
  "kernelspec": {
   "display_name": "Python 3 (ipykernel)",
   "language": "python",
   "name": "python3"
  },
  "language_info": {
   "codemirror_mode": {
    "name": "ipython",
    "version": 3
   },
   "file_extension": ".py",
   "mimetype": "text/x-python",
   "name": "python",
   "nbconvert_exporter": "python",
   "pygments_lexer": "ipython3",
   "version": "3.8.5"
  }
 },
 "nbformat": 4,
 "nbformat_minor": 5
}
