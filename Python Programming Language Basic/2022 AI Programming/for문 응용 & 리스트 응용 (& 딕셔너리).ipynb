{
 "cells": [
  {
   "cell_type": "code",
   "execution_count": 156,
   "id": "86b2e837",
   "metadata": {},
   "outputs": [
    {
     "ename": "NameError",
     "evalue": "name 'A' is not defined",
     "output_type": "error",
     "traceback": [
      "\u001b[0;31m---------------------------------------------------------------------------\u001b[0m",
      "\u001b[0;31mNameError\u001b[0m                                 Traceback (most recent call last)",
      "Input \u001b[0;32mIn [156]\u001b[0m, in \u001b[0;36m<cell line: 7>\u001b[0;34m()\u001b[0m\n\u001b[1;32m      1\u001b[0m \u001b[38;5;66;03m# 범위 (range) - 특정 횟수만큼 반복해서 돌리고 싶을 때 for문 과 조합해서 사용\u001b[39;00m\n\u001b[1;32m      2\u001b[0m \n\u001b[1;32m      3\u001b[0m \u001b[38;5;66;03m# 매개변수에 숫자를 한 개 넣는 방법\u001b[39;00m\n\u001b[1;32m      4\u001b[0m \n\u001b[1;32m      5\u001b[0m \u001b[38;5;66;03m# 0부터 A-1 까지 정수 범위\u001b[39;00m\n\u001b[0;32m----> 7\u001b[0m \u001b[38;5;28mrange\u001b[39m(\u001b[43mA\u001b[49m)\n\u001b[1;32m      9\u001b[0m \u001b[38;5;66;03m# 매개변수에 숫자를 두 개 넣는 방법\u001b[39;00m\n\u001b[1;32m     10\u001b[0m \u001b[38;5;66;03m# A부터 B-1 까지 정수 범위\u001b[39;00m\n\u001b[1;32m     12\u001b[0m \u001b[38;5;28mrange\u001b[39m(A , B)\n",
      "\u001b[0;31mNameError\u001b[0m: name 'A' is not defined"
     ]
    }
   ],
   "source": [
    "# 범위 (range) - 특정 횟수만큼 반복해서 돌리고 싶을 때 for문 과 조합해서 사용\n",
    "\n",
    "# 매개변수에 숫자를 한 개 넣는 방법\n",
    "\n",
    "# 0부터 A-1 까지 정수 범위\n",
    "\n",
    "range(A)\n",
    "\n",
    "# 매개변수에 숫자를 두 개 넣는 방법\n",
    "# A부터 B-1 까지 정수 범위\n",
    "\n",
    "range(A , B)\n",
    "\n",
    "# 매개변수에 숫자를 세 개 넣는 방법\n",
    "# A부터 B-1 까지 정수 범위를 만들되, 앞뒤의 숫자가 C만큼의 차이를 가짐\n",
    "\n",
    "range(A , B , C)"
   ]
  },
  {
   "cell_type": "code",
   "execution_count": 2,
   "id": "277831fa",
   "metadata": {},
   "outputs": [
    {
     "name": "stdout",
     "output_type": "stream",
     "text": [
      "1\n",
      "2\n",
      "3\n",
      "4\n",
      "5\n",
      "6\n",
      "7\n",
      "8\n",
      "9\n",
      "1\n",
      "3\n",
      "5\n",
      "7\n",
      "9\n"
     ]
    }
   ],
   "source": [
    "# 매개변수 숫자 1~3개 삽입 예제\n",
    "\n",
    "for i in range(1 , 10):\n",
    "    print(i)\n",
    "\n",
    "for i in range(1 , 10 , 2): # 2 - 간격 지정\n",
    "    print(i)"
   ]
  },
  {
   "cell_type": "code",
   "execution_count": 157,
   "id": "4d6073b0",
   "metadata": {},
   "outputs": [
    {
     "data": {
      "text/plain": [
       "range(0, 5)"
      ]
     },
     "execution_count": 157,
     "metadata": {},
     "output_type": "execute_result"
    }
   ],
   "source": [
    "a = range(5)\n",
    "a"
   ]
  },
  {
   "cell_type": "code",
   "execution_count": 158,
   "id": "d21e9a3a",
   "metadata": {},
   "outputs": [
    {
     "data": {
      "text/plain": [
       "[0, 1, 2, 3, 4, 5, 6, 7, 8, 9]"
      ]
     },
     "execution_count": 158,
     "metadata": {},
     "output_type": "execute_result"
    }
   ],
   "source": [
    "list(range(10))"
   ]
  },
  {
   "cell_type": "code",
   "execution_count": 159,
   "id": "adbe869c",
   "metadata": {},
   "outputs": [
    {
     "data": {
      "text/plain": [
       "[0, 1, 2, 3, 4]"
      ]
     },
     "execution_count": 159,
     "metadata": {},
     "output_type": "execute_result"
    }
   ],
   "source": [
    "list(range(0 , 5))"
   ]
  },
  {
   "cell_type": "code",
   "execution_count": 160,
   "id": "a1dd12dd",
   "metadata": {},
   "outputs": [
    {
     "data": {
      "text/plain": [
       "[5, 6, 7, 8, 9]"
      ]
     },
     "execution_count": 160,
     "metadata": {},
     "output_type": "execute_result"
    }
   ],
   "source": [
    "list(range(5 , 10))"
   ]
  },
  {
   "cell_type": "code",
   "execution_count": 161,
   "id": "b2bf8561",
   "metadata": {},
   "outputs": [
    {
     "data": {
      "text/plain": [
       "[0, 2, 4, 6, 8]"
      ]
     },
     "execution_count": 161,
     "metadata": {},
     "output_type": "execute_result"
    }
   ],
   "source": [
    "list(range(0 , 10 , 2))"
   ]
  },
  {
   "cell_type": "code",
   "execution_count": 162,
   "id": "23a309da",
   "metadata": {},
   "outputs": [
    {
     "data": {
      "text/plain": [
       "[0, 3, 6, 9]"
      ]
     },
     "execution_count": 162,
     "metadata": {},
     "output_type": "execute_result"
    }
   ],
   "source": [
    "list(range(0 , 10 , 3))"
   ]
  },
  {
   "cell_type": "code",
   "execution_count": 163,
   "id": "98868cfd",
   "metadata": {},
   "outputs": [
    {
     "data": {
      "text/plain": [
       "[0, 1, 2, 3, 4, 5, 6, 7, 8, 9, 10]"
      ]
     },
     "execution_count": 163,
     "metadata": {},
     "output_type": "execute_result"
    }
   ],
   "source": [
    "list(range(0 , 10 + 1))\n",
    "\n",
    "a = range(0 , 10 + 1)\n",
    "list(a)"
   ]
  },
  {
   "cell_type": "code",
   "execution_count": 3,
   "id": "4b6102bb",
   "metadata": {},
   "outputs": [
    {
     "ename": "TypeError",
     "evalue": "'float' object cannot be interpreted as an integer",
     "output_type": "error",
     "traceback": [
      "\u001b[0;31m---------------------------------------------------------------------------\u001b[0m",
      "\u001b[0;31mTypeError\u001b[0m                                 Traceback (most recent call last)",
      "Input \u001b[0;32mIn [3]\u001b[0m, in \u001b[0;36m<cell line: 2>\u001b[0;34m()\u001b[0m\n\u001b[1;32m      1\u001b[0m n \u001b[38;5;241m=\u001b[39m \u001b[38;5;241m10\u001b[39m\n\u001b[0;32m----> 2\u001b[0m a \u001b[38;5;241m=\u001b[39m \u001b[38;5;28;43mrange\u001b[39;49m\u001b[43m(\u001b[49m\u001b[38;5;241;43m0\u001b[39;49m\u001b[43m \u001b[49m\u001b[43m,\u001b[49m\u001b[43m \u001b[49m\u001b[43mn\u001b[49m\u001b[43m \u001b[49m\u001b[38;5;241;43m/\u001b[39;49m\u001b[43m \u001b[49m\u001b[38;5;241;43m2\u001b[39;49m\u001b[43m)\u001b[49m\n",
      "\u001b[0;31mTypeError\u001b[0m: 'float' object cannot be interpreted as an integer"
     ]
    }
   ],
   "source": [
    "n = 10\n",
    "a = range(0 , n / 2)\n",
    "\n",
    "# 매개변수로 나눗셈을 사용한 경우 TypeError\n",
    "\n",
    "# 5.0 는 정수가 아니고, String 도 아니고, float(ing)이 되기 때문"
   ]
  },
  {
   "cell_type": "code",
   "execution_count": 165,
   "id": "736752cd",
   "metadata": {},
   "outputs": [
    {
     "data": {
      "text/plain": [
       "[0, 1, 2, 3, 4]"
      ]
     },
     "execution_count": 165,
     "metadata": {},
     "output_type": "execute_result"
    }
   ],
   "source": [
    "# 올바른 나눗셈 매개변수 활용법\n",
    "\n",
    "a = range(0, int(n/2))\n",
    "list(a)\n",
    "\n",
    "a = range(0, n // 2)\n",
    "list(a)"
   ]
  },
  {
   "cell_type": "code",
   "execution_count": 4,
   "id": "acae17a2",
   "metadata": {},
   "outputs": [
    {
     "name": "stdout",
     "output_type": "stream",
     "text": [
      "0 = 반복 변수\n",
      "1 = 반복 변수\n",
      "2 = 반복 변수\n",
      "3 = 반복 변수\n",
      "4 = 반복 변수\n",
      "\n",
      "5 = 반복 변수\n",
      "6 = 반복 변수\n",
      "7 = 반복 변수\n",
      "8 = 반복 변수\n",
      "9 = 반복 변수\n",
      "\n",
      "0 = 반복 변수\n",
      "3 = 반복 변수\n",
      "6 = 반복 변수\n",
      "9 = 반복 변수\n"
     ]
    }
   ],
   "source": [
    "# for문 과 범위 의 조합\n",
    "\n",
    "for i in range(5):\n",
    "    print(str(i) + \" = 반복 변수\")\n",
    "print()\n",
    "\n",
    "for i in range(5 , 10):\n",
    "    print(str(i) + \" = 반복 변수\")\n",
    "print()\n",
    "\n",
    "for i in range(0 , 10 , 3):\n",
    "    print(str(i) + \" = 반복 변수\")\n",
    "#print()"
   ]
  },
  {
   "cell_type": "code",
   "execution_count": 6,
   "id": "684ac2ef",
   "metadata": {},
   "outputs": [
    {
     "name": "stdout",
     "output_type": "stream",
     "text": [
      "273\n",
      "32\n",
      "181\n",
      "57\n",
      "52\n",
      "0번째 반복(과 반복 수에 따른 요소): 273\n",
      "1번째 반복(과 반복 수에 따른 요소): 32\n",
      "2번째 반복(과 반복 수에 따른 요소): 181\n",
      "3번째 반복(과 반복 수에 따른 요소): 57\n",
      "4번째 반복(과 반복 수에 따른 요소): 52\n",
      "0\n",
      "1\n",
      "2\n",
      "3\n",
      "4\n",
      "물가는 20 % 오르는데, 내 월급도 10 %라도.....\n",
      "물가는 20% 오르는데, 내 월급도 10%라도...\n",
      "물가는 20% 오르는데, 내 월급도 10%라도...\n"
     ]
    }
   ],
   "source": [
    "# 몇 번 반복했는지를 알아야 하는 경우\n",
    "\n",
    "\n",
    "\n",
    "#리스트 선언\n",
    "\n",
    "array = [273 , 32 , 181 , 57 , 52]\n",
    "\n",
    "# 리스트에 반복을 적용\n",
    "\n",
    "for element in array:\n",
    "\n",
    "# 출력\n",
    "    print(element)\n",
    "\n",
    "\n",
    "\n",
    "# 리스트 선언\n",
    "\n",
    "array = [273 , 32 , 181 , 57 , 52]\n",
    "\n",
    "#리스트에 반복을 적용\n",
    "\n",
    "for i in range(len(array)):\n",
    "    \n",
    "# 출력\n",
    "    print(\"{}번째 반복(과 반복 수에 따른 요소): {}\" .format(i , array[i]))\n",
    "\n",
    "\n",
    "\n",
    "# 리스트 선언\n",
    "\n",
    "array = [7 , 36 , 94 , 54 , 66]\n",
    "\n",
    "for i in range(len(array)):\n",
    "    \n",
    "# 출력\n",
    "    print(i)\n",
    "\n",
    "\n",
    "\n",
    "#여러 변수를 사용하는 다양한 방법\n",
    "up = 20\n",
    "sal = 10\n",
    "\n",
    "# 리터럴 방식\n",
    "print('물가는 %s %% 오르는데, 내 월급도 %s %%라도.....' %(up, sal))\n",
    "\n",
    "# .format 방식 *\n",
    "print('물가는 {}% 오르는데, 내 월급도 {}%라도...' .format(up, sal))\n",
    "\n",
    "# f-string 방식 : ver.3.6 이상에서 가능\n",
    "print(f'물가는 {up}% 오르는데, 내 월급도 {sal}%라도...')"
   ]
  },
  {
   "cell_type": "code",
   "execution_count": 9,
   "id": "3da630aa",
   "metadata": {},
   "outputs": [
    {
     "name": "stdout",
     "output_type": "stream",
     "text": [
      "0\n",
      "1\n",
      "2\n",
      "3\n",
      "4\n"
     ]
    }
   ],
   "source": [
    "# 변수\n",
    "\n",
    "array = [7 , 36 , 94 , 54 , 66]\n",
    "\n",
    "for i in range(len(array)):\n",
    "    print(i)"
   ]
  },
  {
   "cell_type": "code",
   "execution_count": 16,
   "id": "3091a707",
   "metadata": {},
   "outputs": [
    {
     "name": "stdout",
     "output_type": "stream",
     "text": [
      "현재 반복 변수 4\n",
      "현재 반복 변수 3\n",
      "현재 반복 변수 2\n",
      "현재 반복 변수 1\n",
      "현재 반복 변수 0\n",
      "\n",
      "\n",
      "현재 반복 변수 4\n",
      "현재 반복 변수 3\n",
      "현재 반복 변수 2\n",
      "현재 반복 변수 1\n",
      "현재 반복 변수 0\n",
      "\n",
      "\n",
      "현재 반복 변수 4\n",
      "현재 반복 변수 3\n",
      "현재 반복 변수 2\n",
      "현재 반복 변수 1\n",
      "현재 반복 변수 0\n"
     ]
    }
   ],
   "source": [
    "# 역반복문 - 큰 숫자에서 작은 숫자로의 반복문 적용 - range() 함수의 매개변수 세 개 사용하는 방법\n",
    "\n",
    "for i in range(4 , 0 - 1 , -1):\n",
    "    # 출력\n",
    "    print(\"현재 반복 변수 {}\" .format(i))\n",
    "print(\"\\n\")\n",
    "\n",
    "for i in range(4 , -1 , -1):\n",
    "    # 출력\n",
    "    print(\"현재 반복 변수 {}\" .format(i))\n",
    "print(\"\\n\")\n",
    "\n",
    "for i in reversed(range(5)):\n",
    "    # 출력\n",
    "    print(\"현재 반복 변수 {}\" .format(i))\n",
    "#print(\"\\n\")"
   ]
  },
  {
   "cell_type": "code",
   "execution_count": 18,
   "id": "e667eec3",
   "metadata": {},
   "outputs": [],
   "source": [
    "# while 반복문 - 리스트 또는 딕셔너리 내부의 요소를 특정 횟수만큼 반복\n",
    "\n",
    "# while 불 표현식: 문장\n",
    "\n",
    "#while True:\n",
    "    #print(\",\" , end=\"\")\n",
    "\n",
    "\n",
    "# 기본적으로 end가 \"\\n\"이라 줄바꿈이 일어나는데, 빈 문자열 \"\"으로 바꿔서 줄바꿈이 일어나지 않게 합니다.\n",
    "\n",
    "# 실행하지 말 것. 렉 걸림."
   ]
  },
  {
   "cell_type": "code",
   "execution_count": 19,
   "id": "5cedfc11",
   "metadata": {},
   "outputs": [
    {
     "name": "stdout",
     "output_type": "stream",
     "text": [
      "0번째 반복입니다.\n",
      "1번째 반복입니다.\n",
      "2번째 반복입니다.\n",
      "3번째 반복입니다.\n",
      "4번째 반복입니다.\n",
      "5번째 반복입니다.\n",
      "6번째 반복입니다.\n",
      "7번째 반복입니다.\n",
      "8번째 반복입니다.\n",
      "9번째 반복입니다.\n",
      "0\n",
      "1\n",
      "2\n",
      "3\n",
      "4\n",
      "5\n",
      "6\n",
      "7\n",
      "8\n",
      "9\n"
     ]
    }
   ],
   "source": [
    "# 반복 변수를 기반으로 반복하기\n",
    "\n",
    "# 변수 선언\n",
    "i = 0\n",
    "while i < 10:\n",
    "    print(\"{}번째 반복입니다.\" .format(i))\n",
    "    i += 1   # <-> i = i + 1 / i + 1 = i\n",
    "    \n",
    "i = 0\n",
    "while i < 10:\n",
    "    print(i)\n",
    "    i += 1   # <-> i = i + 1 / i + 1 = i"
   ]
  },
  {
   "cell_type": "code",
   "execution_count": 171,
   "id": "1bb42d93",
   "metadata": {},
   "outputs": [
    {
     "name": "stdout",
     "output_type": "stream",
     "text": [
      "[1, 1, 2]\n",
      "[1, 1]\n"
     ]
    }
   ],
   "source": [
    "# 상태를 기반으로 반복하기\n",
    "\n",
    "# 리스트 내부에 해당하는 값을 여러 개 제거\n",
    "\n",
    "# while 반복문의 조건을 '리스트 내부의 요소가 있는 동안'으로 지칭\n",
    "\n",
    "# 변수 선언\n",
    "\n",
    "list_test = [1 , 2 , 1 , 2]\n",
    "value = 2\n",
    "\n",
    "# list_test 내부에 value가 있다면 반복\n",
    "while value in list_test :\n",
    "    list_test.remove(value)\n",
    "    \n",
    "    # 출력\n",
    "    print(list_test)"
   ]
  },
  {
   "cell_type": "code",
   "execution_count": 22,
   "id": "70dc639f",
   "metadata": {},
   "outputs": [
    {
     "name": "stdout",
     "output_type": "stream",
     "text": [
      "다시 아이디를 입력하여라\n",
      "> 종료하시겠습니까?(y) : n\n",
      "다시 아이디를 입력하여라\n",
      "> 종료하시겠습니까?(y) : y\n",
      "인증성공\n"
     ]
    }
   ],
   "source": [
    "# break 키워드 (break 문) - 반복문 벗어날 때 사용하는 키워드\n",
    "\n",
    "# 변수 선언\n",
    "i = 0\n",
    "while True:\n",
    "    print(\"다시 아이디를 입력하여라\")\n",
    "    i += 1\n",
    "    \n",
    "    # 반복 종료\n",
    "    \n",
    "    input_text = input(\"> 종료하시겠습니까?(y) : \")\n",
    "    if input_text in [\"y\"]:\n",
    "        print(\"인증성공\")\n",
    "        break"
   ]
  },
  {
   "cell_type": "code",
   "execution_count": 173,
   "id": "f883af5c",
   "metadata": {},
   "outputs": [
    {
     "name": "stdout",
     "output_type": "stream",
     "text": [
      "15\n",
      "20\n",
      "25\n"
     ]
    }
   ],
   "source": [
    "# countinue 키워드 - 현재 반복을 생략하고 다음 반복으로 넘어감\n",
    "\n",
    "# 변수 선언\n",
    "\n",
    "numbers = [5 , 15 , 6 , 20 , 7 , 25]\n",
    "\n",
    "# 반복\n",
    "for number in numbers :\n",
    "    # numbers가 10보다 작으면 다음 반복으로 넘어갑니다.\n",
    "    if number < 10:\n",
    "        continue\n",
    "       # 출력\n",
    "    print(number)"
   ]
  },
  {
   "cell_type": "code",
   "execution_count": 31,
   "id": "8c5c3cb8",
   "metadata": {},
   "outputs": [
    {
     "name": "stdout",
     "output_type": "stream",
     "text": [
      "{'name': '기사', 'hp': 200, 'mp': 30, 'level': 5}\n"
     ]
    }
   ],
   "source": [
    "# 확인문제 1\n",
    "\n",
    "# 각 리스트를 조합해 하나의 딕셔너리를 만들어라\n",
    "\n",
    "# 실행결과 : {\"name\" : \"기사\" , \"hp\" : \"200\" , \"mp\" : \"30\" , \"level\" : \"5\"}\n",
    "\n",
    "character = {} # 딕서녀리\n",
    "key_list = [\"name\" , \"hp\" , \"mp\" , \"level\"] # 리스트 1\n",
    "value_list = [\"기사\" , 200 , 30 , 5] # 리스트 2"
   ]
  },
  {
   "cell_type": "code",
   "execution_count": null,
   "id": "b23ccd3c",
   "metadata": {},
   "outputs": [],
   "source": [
    "# 확인문제 1 답\n",
    "\n",
    "# 각 리스트를 조합해 하나의 딕셔너리를 만들어라\n",
    "\n",
    "# 실행결과 : {\"name\" : \"기사\" , \"hp\" : \"200\" , \"mp\" : \"30\" , \"level\" : \"5\"}\n",
    "\n",
    "character = {} # 딕서녀리\n",
    "key_list = [\"name\" , \"hp\" , \"mp\" , \"level\"] # 리스트 1\n",
    "value_list = [\"기사\" , 200 , 30 , 5] # 리스트 2\n",
    "\n",
    "character [key_list[0]] = value_list[0]\n",
    "character [key_list[1]] = value_list[1]\n",
    "character [key_list[2]] = value_list[2]\n",
    "character [key_list[3]] = value_list[3]\n",
    "\n",
    "print(character)"
   ]
  },
  {
   "cell_type": "code",
   "execution_count": 119,
   "id": "d64977c6",
   "metadata": {},
   "outputs": [
    {
     "name": "stdout",
     "output_type": "stream",
     "text": [
      "1을 더할 때, 10000을 넘으며, 그때의 값은 0 입니다.\n"
     ]
    }
   ],
   "source": [
    "# 확인문제 2\n",
    "\n",
    "# 실행결과 : 142을 더할 때, 10000을 넘으며, 그때의 값은 10011 입니다.\n",
    "\n",
    "limit = 10000\n",
    "i = 1\n",
    "\n",
    "\n",
    "print(\"{}을 더할 때, {}을 넘으며, 그때의 값은 {} 입니다.\" .format(i , limit , sum_value))"
   ]
  },
  {
   "cell_type": "code",
   "execution_count": 134,
   "id": "c1f78dab",
   "metadata": {},
   "outputs": [
    {
     "name": "stdout",
     "output_type": "stream",
     "text": [
      "142을 더할 때, 10000을 넘으며, 그때의 값은 10011 입니다.\n"
     ]
    }
   ],
   "source": [
    "# 확인문제 2 답\n",
    "\n",
    "limit = 10000\n",
    "i = 1\n",
    "sum_value = 0\n",
    "\n",
    "while sum_value < limit:\n",
    "    sum_value += i\n",
    "    i += 1\n",
    "print(\"{}을 더할 때, {}을 넘으며, 그때의 값은 {} 입니다.\" .format(i , limit , sum_value))"
   ]
  },
  {
   "cell_type": "code",
   "execution_count": 135,
   "id": "b22bd74f",
   "metadata": {},
   "outputs": [],
   "source": [
    "# 실패사례 1\n",
    "\n",
    "limit = 10000\n",
    "i = 1\n",
    "sum_value = 0\n",
    "\n",
    "while sum_value > limit:\n",
    "    i += 1\n",
    "    sum_value = sum(1,i)\n",
    "    if sum_value > limit:\n",
    "        print(\"{}을 더할 때, {}을 넘으며, 그때의 값은 {} 입니다.\" .format(i , limit , sum_value))"
   ]
  },
  {
   "cell_type": "code",
   "execution_count": 136,
   "id": "5858f252",
   "metadata": {},
   "outputs": [],
   "source": [
    "# 실패사례 2\n",
    "limit = 10000\n",
    "i = 1\n",
    "sum_value = 0\n",
    "\n",
    "sum_value = sum(1,i)\n",
    "\n",
    "while sum_value < limit:\n",
    "    i += 1\n",
    "    if sum_value > limit:\n",
    "        print(\"{}을 더할 때, {}을 넘으며, 그때의 값은 {} 입니다.\" .format(i , limit , sum_value))"
   ]
  },
  {
   "cell_type": "code",
   "execution_count": 137,
   "id": "a96b99c2",
   "metadata": {},
   "outputs": [],
   "source": [
    "# 문자열, 리스트, 딕셔너리와 관련된 기본 함수"
   ]
  },
  {
   "cell_type": "code",
   "execution_count": 138,
   "id": "3a418fa7",
   "metadata": {},
   "outputs": [
    {
     "ename": "TypeError",
     "evalue": "sum() missing 1 required positional argument: 'j'",
     "output_type": "error",
     "traceback": [
      "\u001b[0;31m---------------------------------------------------------------------------\u001b[0m",
      "\u001b[0;31mTypeError\u001b[0m                                 Traceback (most recent call last)",
      "Input \u001b[0;32mIn [138]\u001b[0m, in \u001b[0;36m<cell line: 13>\u001b[0;34m()\u001b[0m\n\u001b[1;32m      9\u001b[0m \u001b[38;5;28mmin\u001b[39m(numbers)\n\u001b[1;32m     11\u001b[0m \u001b[38;5;28mmax\u001b[39m(numbers)\n\u001b[0;32m---> 13\u001b[0m \u001b[38;5;28;43msum\u001b[39;49m\u001b[43m(\u001b[49m\u001b[43mnumbers\u001b[49m\u001b[43m)\u001b[49m\n",
      "\u001b[0;31mTypeError\u001b[0m: sum() missing 1 required positional argument: 'j'"
     ]
    }
   ],
   "source": [
    "# 리스트에 적용할 수 있는 기본 함수\n",
    "\n",
    "# min() - 리스트 내부에서 최솟값을 찾습니다.\n",
    "# max() - 리스트 내부에서 최댓값을 찾습니다.\n",
    "# sum() - 리스트 내부에서 값을 모두 더합니다.\n",
    "\n",
    "numbers = [103 , 52 , 273 , 32 , 77]\n",
    "\n",
    "min(numbers)\n",
    "\n",
    "max(numbers)\n",
    "\n",
    "sum(numbers)"
   ]
  },
  {
   "cell_type": "code",
   "execution_count": 202,
   "id": "897dfc50",
   "metadata": {},
   "outputs": [
    {
     "name": "stdout",
     "output_type": "stream",
     "text": [
      "[5, 4, 3, 2, 1]\n",
      "# reversed() 함수\n",
      "reversed([1 , 2 , 3 , 4 , 5]): <list_reverseiterator object at 0x7f8038568190>\n",
      "list(reversed([1 , 2 , 3 , 4 , 5])): [5, 4, 3, 2, 1]\n",
      "\n",
      "# reversed() 함수와 반복문\n",
      "for i in reversed([1 , 2 , 3 , 4 , 5]):\n",
      "- 5\n",
      "- 4\n",
      "- 3\n",
      "- 2\n",
      "- 1\n"
     ]
    }
   ],
   "source": [
    "# reversed() 함수 - 리스트에서 요소 순서 뒤집기\n",
    "\n",
    "a = [1 , 2 , 3 , 4 , 5]\n",
    "\n",
    "print(list(reversed(a)))\n",
    "\n",
    "\n",
    "\n",
    "list_a = [1 , 2 , 3 , 4 , 5]\n",
    "list_reversed = reversed(list_a)\n",
    "\n",
    "print(\"# reversed() 함수\")\n",
    "print(\"reversed([1 , 2 , 3 , 4 , 5]):\" , list_reversed)\n",
    "print(\"list(reversed([1 , 2 , 3 , 4 , 5])):\" , list(list_reversed))\n",
    "print()\n",
    "\n",
    "# 반복문을 적용해 봅니다.\n",
    "print(\"# reversed() 함수와 반복문\")\n",
    "print(\"for i in reversed([1 , 2 , 3 , 4 , 5]):\")\n",
    "for i in reversed(list_a):\n",
    "    print(\"-\" , i)"
   ]
  },
  {
   "cell_type": "code",
   "execution_count": 24,
   "id": "e4dce30a",
   "metadata": {},
   "outputs": [
    {
     "name": "stdout",
     "output_type": "stream",
     "text": [
      "첫번째 반복문 : 5\n",
      "첫번째 반복문 : 4\n",
      "첫번째 반복문 : 3\n",
      "첫번째 반복문 : 2\n",
      "첫번째 반복문 : 1\n",
      "첫번째 반복문 : 6\n",
      "첫번째 반복문 : 5\n",
      "첫번째 반복문 : 4\n",
      "첫번째 반복문 : 3\n",
      "첫번째 반복문 : 2\n",
      "첫번째 반복문 : 1\n",
      "두번째 반복문 : 6\n",
      "두번째 반복문 : 5\n",
      "두번째 반복문 : 4\n",
      "두번째 반복문 : 3\n",
      "두번째 반복문 : 2\n",
      "두번째 반복문 : 1\n"
     ]
    }
   ],
   "source": [
    "# 틀린 예\n",
    "\n",
    "a = reversed([1 , 2 , 3 , 4 , 5])\n",
    "\n",
    "for i in a:\n",
    "    print(\"첫번째 반복문 :\", i)\n",
    "\n",
    "# 적용되지 않음.\n",
    "for i in a:\n",
    "    print(\"두번째 반복문 :\", i)\n",
    "\n",
    "\n",
    "\n",
    "# 바른 예\n",
    "\n",
    "numbers = [1 , 2 , 3 , 4 , 5 , 6]\n",
    "\n",
    "for i in reversed(numbers):\n",
    "    print(\"첫번째 반복문 : {}\" .format(i))\n",
    "\n",
    "for i in reversed(numbers):\n",
    "    print(\"두번째 반복문 : {}\" .format(i))"
   ]
  },
  {
   "cell_type": "code",
   "execution_count": 218,
   "id": "49bc3cca",
   "metadata": {},
   "outputs": [
    {
     "name": "stdout",
     "output_type": "stream",
     "text": [
      "[(0, 'A'), (1, 'B'), (2, 'C')]\n",
      "<enumerate object at 0x7f806949b1c0>\n",
      "0번쨰 요소는 A입니다.\n",
      "1번쨰 요소는 B입니다.\n",
      "2번쨰 요소는 C입니다.\n",
      "0번쨰 요소는 A입니다.\n",
      "1번쨰 요소는 B입니다.\n",
      "2번쨰 요소는 C입니다.\n"
     ]
    }
   ],
   "source": [
    "# enumerate() - 리스트 요소 반복할 때 현재 인덱스가 몇 번째인지 확인\n",
    "\n",
    "\n",
    "\n",
    "example_list = [\"A\" , \"B\" , \"C\"]\n",
    "\n",
    "\n",
    "\n",
    "# 방법 0 - list() 함수로 강제 변환하여 출력\n",
    "\n",
    "print(list(enumerate(example_list)))\n",
    "\n",
    "\n",
    "\n",
    "# 방법 1 - enumerate() 함수 적용하여 출력\n",
    "print(enumerate(example_list))\n",
    "# 출력값이 이상한 컴퓨터 숫자로 나옴\n",
    "\n",
    "\n",
    "\n",
    "# 방법 1\n",
    "i = 0\n",
    "for item in example_list:\n",
    "    print(\"{}번쨰 요소는 {}입니다.\" .format(i, item))\n",
    "    i += 1\n",
    "\n",
    "\n",
    "\n",
    "# 방법 2\n",
    "for i in range(len(example_list)):\n",
    "     print(\"{}번쨰 요소는 {}입니다.\" .format(i, example_list[i]))"
   ]
  },
  {
   "cell_type": "code",
   "execution_count": 220,
   "id": "92bd43fb",
   "metadata": {},
   "outputs": [
    {
     "name": "stdout",
     "output_type": "stream",
     "text": [
      "# 딕셔너리 items() 함수\n",
      "items(): dict_items([('키1', '값1'), ('키2', '값2'), ('키3', '값3')])\n",
      "\n",
      "# 딕셔너리 items() 함수와 반복문 조합하기\n",
      "dictionary[키1] =  값1\n",
      "dictionary[키2] =  값2\n",
      "dictionary[키3] =  값3\n"
     ]
    }
   ],
   "source": [
    "# items() 함수 - 딕셔너리와 item() 함수를 함께 사용하면 키와 값을 조합하여 쉽게 반복문 작성이 가능 - 쓸데없음, 필요없음, 중요하지 않은 내용\n",
    "\n",
    "# 변수 선언\n",
    "example_dictionary = {\n",
    "    \"키1\": \"값1\",\n",
    "    \"키2\": \"값2\",\n",
    "    \"키3\": \"값3\",\n",
    "}\n",
    "\n",
    "print(\"# 딕셔너리 items() 함수\")\n",
    "print(\"items():\" , example_dictionary.items())\n",
    "print()\n",
    "\n",
    "# for 반복문과 items() 함수 조합해서 사용하기\n",
    "print(\"# 딕셔너리 items() 함수와 반복문 조합하기\")\n",
    "\n",
    "for key, element in example_dictionary.items():\n",
    "    print(\"dictionary[{}] =  {}\" .format(key, element))"
   ]
  },
  {
   "cell_type": "code",
   "execution_count": 4,
   "id": "02e1c00a",
   "metadata": {},
   "outputs": [
    {
     "ename": "SyntaxError",
     "evalue": "invalid syntax (1982011221.py, line 3)",
     "output_type": "error",
     "traceback": [
      "\u001b[0;36m  Input \u001b[0;32mIn [4]\u001b[0;36m\u001b[0m\n\u001b[0;31m    리스트 이름 = [표현식 for 반복자 in 반복할 수 있는 것]\u001b[0m\n\u001b[0m        ^\u001b[0m\n\u001b[0;31mSyntaxError\u001b[0m\u001b[0;31m:\u001b[0m invalid syntax\n"
     ]
    }
   ],
   "source": [
    "# 리스트 내포 (list comprehension) - (시험공부하지 말 것)\n",
    "\n",
    "리스트 이름 = [표현식 for 반복자 in 반복할 수 있는 것]"
   ]
  },
  {
   "cell_type": "code",
   "execution_count": 2,
   "id": "c7f92c4e",
   "metadata": {},
   "outputs": [
    {
     "name": "stdout",
     "output_type": "stream",
     "text": [
      "[0, 4, 16, 36, 64, 100, 144, 196, 256, 324]\n",
      "[0]\n",
      "[0, 4]\n",
      "[0, 4, 16]\n",
      "[0, 4, 16, 36]\n",
      "[0, 4, 16, 36, 64]\n",
      "[0, 4, 16, 36, 64, 100]\n",
      "[0, 4, 16, 36, 64, 100, 144]\n",
      "[0, 4, 16, 36, 64, 100, 144, 196]\n",
      "[0, 4, 16, 36, 64, 100, 144, 196, 256]\n",
      "[0, 4, 16, 36, 64, 100, 144, 196, 256, 324]\n"
     ]
    }
   ],
   "source": [
    "# 반복문 사용하여 리스트 재조합하는 경우\n",
    "\n",
    "# 반복문을 사용한 리스트 생성 예시\n",
    "\n",
    "array = []\n",
    "\n",
    "for i in range(0 , 20 , 2):\n",
    "    array.append(i * i)\n",
    "    \n",
    "print(array)\n",
    "\n",
    "\n",
    "\n",
    "array = []\n",
    "\n",
    "for i in range(0 , 20 , 2):\n",
    "    array.append(i * i)\n",
    "    \n",
    "    print(array)\n",
    "\n",
    "\n",
    "\n",
    "# 두 코드가 같아 보이지만, 출력값은 큰 차이가 있음."
   ]
  },
  {
   "cell_type": "code",
   "execution_count": 3,
   "id": "5fef3f60",
   "metadata": {},
   "outputs": [
    {
     "name": "stdout",
     "output_type": "stream",
     "text": [
      "[0, 4, 16, 36, 64, 100, 144, 196, 256, 324]\n"
     ]
    }
   ],
   "source": [
    "# 리스트 안에 for문 사용하기\n",
    "\n",
    "array = [i * i for i in range(0 , 20 , 2)]\n",
    "\n",
    "print(array)"
   ]
  },
  {
   "cell_type": "code",
   "execution_count": 1,
   "id": "acf47684",
   "metadata": {},
   "outputs": [
    {
     "ename": "SyntaxError",
     "evalue": "invalid syntax (4238924647.py, line 3)",
     "output_type": "error",
     "traceback": [
      "\u001b[0;36m  Input \u001b[0;32mIn [1]\u001b[0;36m\u001b[0m\n\u001b[0;31m    1. 리스트.enumerate() ( X )\u001b[0m\n\u001b[0m       ^\u001b[0m\n\u001b[0;31mSyntaxError\u001b[0m\u001b[0;31m:\u001b[0m invalid syntax\n"
     ]
    }
   ],
   "source": [
    "다음 중 enumerate() 함수와 items() 함수의 사용법으로 올바른 것은?\n",
    "\n",
    "1. 리스트.enumerate() ( X )\n",
    "\n",
    "2. enumerate(리스트) ( O )\n",
    "\n",
    "3. 딕셔너리.items() ( O )\n",
    "\n",
    "4. items(딕셔너리) ( X )"
   ]
  }
 ],
 "metadata": {
  "kernelspec": {
   "display_name": "Python 3 (ipykernel)",
   "language": "python",
   "name": "python3"
  },
  "language_info": {
   "codemirror_mode": {
    "name": "ipython",
    "version": 3
   },
   "file_extension": ".py",
   "mimetype": "text/x-python",
   "name": "python",
   "nbconvert_exporter": "python",
   "pygments_lexer": "ipython3",
   "version": "3.8.5"
  }
 },
 "nbformat": 4,
 "nbformat_minor": 5
}
