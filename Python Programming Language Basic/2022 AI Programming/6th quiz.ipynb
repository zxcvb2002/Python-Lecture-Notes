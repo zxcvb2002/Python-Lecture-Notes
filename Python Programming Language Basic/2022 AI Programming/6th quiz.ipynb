{
 "cells": [
  {
   "cell_type": "code",
   "execution_count": 4,
   "id": "34534333",
   "metadata": {},
   "outputs": [
    {
     "name": "stdout",
     "output_type": "stream",
     "text": [
      "    *\n",
      "   ***\n",
      "  *****\n",
      " *******\n",
      "*********\n"
     ]
    }
   ],
   "source": [
    "# Quiz 1\n",
    "\n",
    "num = 5\n",
    "for i in range(1, num+1):\n",
    "    for j in range(num-i):\n",
    "        print(\" \", end=\"\")\n",
    "    for k in range(i+i-1):\n",
    "        print(\"*\", end=\"\")\n",
    "    print()"
   ]
  },
  {
   "cell_type": "code",
   "execution_count": 5,
   "id": "8d88bed4",
   "metadata": {},
   "outputs": [
    {
     "name": "stdout",
     "output_type": "stream",
     "text": [
      "    *\n",
      "   ***\n",
      "  *****\n",
      " *******\n",
      "*********\n"
     ]
    }
   ],
   "source": [
    "# Quiz 1\n",
    "\n",
    "num = 5\n",
    "for i in range(1, num+1):\n",
    "    for j in range(num-i):\n",
    "        print(\" \", end=\"\")\n",
    "    for k in range(2*i-1): # 2i-1 = i+i-1\n",
    "        print(\"*\", end=\"\")\n",
    "    print()"
   ]
  },
  {
   "cell_type": "code",
   "execution_count": 3,
   "id": "7fdece40",
   "metadata": {},
   "outputs": [
    {
     "name": "stdout",
     "output_type": "stream",
     "text": [
      "1 2 3 4 \n",
      "\n",
      "5 6 7 8 \n",
      "\n",
      "9 10 11 12 \n",
      "\n"
     ]
    }
   ],
   "source": [
    "# Quiz 2\n",
    "\n",
    "for i in range(3):\n",
    "    for j in range(4):\n",
    "        print((i*4)+j+1, end=\" \")\n",
    "    print(\"\\n\")"
   ]
  },
  {
   "cell_type": "code",
   "execution_count": 7,
   "id": "5d60974c",
   "metadata": {},
   "outputs": [
    {
     "name": "stdout",
     "output_type": "stream",
     "text": [
      "1 5 9 \n",
      "\n",
      "2 6 10 \n",
      "\n",
      "3 7 11 \n",
      "\n",
      "4 8 12 \n",
      "\n"
     ]
    }
   ],
   "source": [
    "# Quiz 3\n",
    "\n",
    "for i in range(0,4):\n",
    "    for j in range(1,13,4):\n",
    "        print(j+i, end=\" \")\n",
    "    print(\"\\n\")"
   ]
  },
  {
   "cell_type": "code",
   "execution_count": 54,
   "id": "eb00da72",
   "metadata": {},
   "outputs": [
    {
     "name": "stdout",
     "output_type": "stream",
     "text": [
      "1 4 7 10 \n",
      "\n",
      "2 5 8 11 \n",
      "\n",
      "3 6 9 12 \n",
      "\n"
     ]
    }
   ],
   "source": [
    "# Quiz 4\n",
    "\n",
    "for i in range(3):\n",
    "    for j in range(4):\n",
    "        print((i+1)+(j*3), end=\" \")\n",
    "    print('\\n')"
   ]
  },
  {
   "cell_type": "code",
   "execution_count": 55,
   "id": "52b0b3ac",
   "metadata": {},
   "outputs": [
    {
     "name": "stdout",
     "output_type": "stream",
     "text": [
      "row:4\n",
      "column:5\n",
      "1 5 9 13 17 \n",
      "\n",
      "2 6 10 14 18 \n",
      "\n",
      "3 7 11 15 19 \n",
      "\n",
      "4 8 12 16 20 \n",
      "\n"
     ]
    }
   ],
   "source": [
    "# Quiz 5\n",
    "\n",
    "row = int(input(\"row:\"))\n",
    "column = int(input(\"column:\"))\n",
    "\n",
    "\n",
    "for i in range(row):\n",
    "    for j in range(column):\n",
    "        print((i+1)+(j*4), end=\" \")\n",
    "    print(\"\\n\")"
   ]
  },
  {
   "cell_type": "code",
   "execution_count": 8,
   "id": "eac0f96a",
   "metadata": {},
   "outputs": [
    {
     "name": "stdout",
     "output_type": "stream",
     "text": [
      "row:4\n",
      "column:5\n",
      "5 9 13 17 21 \n",
      "\n",
      "6 10 14 18 22 \n",
      "\n",
      "7 11 15 19 23 \n",
      "\n",
      "8 12 16 20 24 \n",
      "\n"
     ]
    }
   ],
   "source": [
    "# Quiz 5+\n",
    "# 프로그램이 완전하지 않음에 더 큰수에도 정확히 작동될 수 있도록 수정\n",
    "\n",
    "row = int(input(\"row:\"))\n",
    "column = int(input(\"column:\"))\n",
    "\n",
    "for i in range(row):\n",
    "    for j in range(column):\n",
    "        print((i+1)+(j*row), end=\" \")\n",
    "    print(\"\\n\")"
   ]
  },
  {
   "cell_type": "code",
   "execution_count": 9,
   "id": "6904ed3e",
   "metadata": {},
   "outputs": [
    {
     "name": "stdout",
     "output_type": "stream",
     "text": [
      "row:4\n",
      "column:5\n",
      "5 9 13 17 21 \n",
      "\n",
      "6 10 14 18 22 \n",
      "\n",
      "7 11 15 19 23 \n",
      "\n",
      "8 12 16 20 24 \n",
      "\n"
     ]
    }
   ],
   "source": [
    "# Quiz 5+\n",
    "# 번외\n",
    "\n",
    "row = int(input(\"row:\"))\n",
    "column = int(input(\"column:\"))\n",
    "\n",
    "for i in range(row):\n",
    "    for j in range(column):\n",
    "        print((i+column)+(j*row), end=\" \")\n",
    "    print(\"\\n\")"
   ]
  }
 ],
 "metadata": {
  "kernelspec": {
   "display_name": "Python 3 (ipykernel)",
   "language": "python",
   "name": "python3"
  },
  "language_info": {
   "codemirror_mode": {
    "name": "ipython",
    "version": 3
   },
   "file_extension": ".py",
   "mimetype": "text/x-python",
   "name": "python",
   "nbconvert_exporter": "python",
   "pygments_lexer": "ipython3",
   "version": "3.8.5"
  }
 },
 "nbformat": 4,
 "nbformat_minor": 5
}
