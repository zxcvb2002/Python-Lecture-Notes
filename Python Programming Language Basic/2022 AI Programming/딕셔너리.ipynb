{
 "cells": [
  {
   "cell_type": "code",
   "execution_count": 1,
   "id": "8415d033",
   "metadata": {},
   "outputs": [],
   "source": [
    "# 딕셔너리와 반복문"
   ]
  },
  {
   "cell_type": "code",
   "execution_count": 2,
   "id": "1fda1fe3",
   "metadata": {},
   "outputs": [
    {
     "ename": "SyntaxError",
     "evalue": "invalid syntax (2867267638.py, line 8)",
     "output_type": "error",
     "traceback": [
      "\u001b[0;36m  Input \u001b[0;32mIn [2]\u001b[0;36m\u001b[0m\n\u001b[0;31m    키:값,\u001b[0m\n\u001b[0m     ^\u001b[0m\n\u001b[0;31mSyntaxError\u001b[0m\u001b[0;31m:\u001b[0m invalid syntax\n"
     ]
    }
   ],
   "source": [
    "# 딕셔너리 - 키를 기반으로 값을 저장하는 것 / 키를 기반으로 여러 자료를 저장하는 자료형\n",
    "\n",
    "# 키 - 딕셔너리 내부에서 값에 접근할 때 사용하는 것\n",
    "\n",
    "# 값 - 딕셔너리 내부에 있는 각각의 내용\n",
    "\n",
    "변수 = [\n",
    "    키:값,\n",
    "    키:값,\n",
    "    ...\n",
    "    키: 값\n",
    "]\n",
    "\n",
    "-----\n",
    "\n",
    "(\n",
    "\n",
    "\"키A\" : 10,\n",
    "\"키B\" : 20,\n",
    "\"키C\" : 30,\n",
    "\n",
    "1:   40,\n",
    "False: 50\n",
    "\n",
    ")\n",
    "\n",
    "# 리스트 - 인덱스를 기반으로 값을 저장 - 인덱스 (가리키는 위치) - 변수 = [] (선언 형식)\n",
    "# 딕셔너리 - 키를 기반으로 값을 저장 - 키 (가리키는 위치) - 변수 {} (선언 형식)"
   ]
  },
  {
   "cell_type": "code",
   "execution_count": 3,
   "id": "4f047d89",
   "metadata": {},
   "outputs": [
    {
     "data": {
      "text/plain": [
       "'히어로 무비'"
      ]
     },
     "execution_count": 3,
     "metadata": {},
     "output_type": "execute_result"
    }
   ],
   "source": [
    "# 딕셔너리 선언\n",
    "\n",
    "# 중괄호로 선언하며, '키: 값' 형태를 쉼표로 연결해서 만듦\n",
    "\n",
    "# 딕셔너리 선언 예\n",
    "dict_a = {\n",
    "    \"name\": \"어벤져스 엔드게임\" ,\n",
    "    \"type\": \"히어로 무비\"\n",
    "    }\n",
    "\n",
    "# 특정 키 값만 따로 출력하기\n",
    "\n",
    "# 딕셔너리 뒤에 대괄호를 입력하고 그 내부에 키 입력\n",
    "\n",
    "# 딕셔너리 사용 예\n",
    "dict_a[\"name\"]\n",
    "\n",
    "dict_a[\"type\"]"
   ]
  },
  {
   "cell_type": "code",
   "execution_count": 4,
   "id": "50ea79c6",
   "metadata": {},
   "outputs": [
    {
     "data": {
      "text/plain": [
       "['안소니 루소', '조 루소']"
      ]
     },
     "execution_count": 4,
     "metadata": {},
     "output_type": "execute_result"
    }
   ],
   "source": [
    "# 딕셔너리 내부 값에 문자열, 숫자, 불 등 다양한 자료 삽입 가능\n",
    "\n",
    "# 딕셔너리 선언 예\n",
    "dict_b = {\n",
    "    \"directory\": [\"안소니 루소\", \"조 루소\"],\n",
    "    \"cast\": [\"아이언맨\", \"타노스\", \"토르\", \"닥터스트레인지\", \"헐크\"]\n",
    "    }\n",
    "\n",
    "# 딕셔너리 사용 예\n",
    "dict_b\n",
    "{\"directory\" : [\"안소니 루소\", \"조 루소\"], \"cast\": [\"아이언맨\", \"타노스\", \"토르\", \"닥터스트레인지\", \"헐크\"]}\n",
    "\n",
    "dict_b[\"directory\"]\n",
    "[\"안소니 루소\", \"조 루소\"]"
   ]
  },
  {
   "cell_type": "code",
   "execution_count": 5,
   "id": "20026afe",
   "metadata": {},
   "outputs": [
    {
     "name": "stdout",
     "output_type": "stream",
     "text": [
      "name:  70 건조 망고\n",
      "type:  당절임\n",
      "ingredient : ['망고', '설탕', '메타종아황산나트륨', '치자황색소']\n",
      "origin : 필리핀\n",
      "\n",
      "name:  80 건조 망고\n"
     ]
    }
   ],
   "source": [
    "# 딕서너리 요소에 접근하기\n",
    "\n",
    "dictionary = {\n",
    "    \"name\": \"70 건조 망고\",\n",
    "    \"type\": \"당절임\",\n",
    "    \"ingredient\": [\"망고\", \"설탕\", \"메타종아황산나트륨\", \"치자황색소\"],\n",
    "    \"origin\": \"필리핀\"\n",
    "}\n",
    "\n",
    "# 출력 예\n",
    "print(\"name: \" , dictionary[\"name\"])\n",
    "print(\"type: \" , dictionary[\"type\"])\n",
    "print(\"ingredient :\" , dictionary[\"ingredient\"])\n",
    "print(\"origin :\" , dictionary[\"origin\"])\n",
    "print()\n",
    "\n",
    "# 값 변경\n",
    "dictionary[\"name\"] = \"80 건조 망고\"\n",
    "print(\"name: \", dictionary[\"name\"])"
   ]
  },
  {
   "cell_type": "code",
   "execution_count": 6,
   "id": "f4cfc71f",
   "metadata": {},
   "outputs": [
    {
     "name": "stdout",
     "output_type": "stream",
     "text": [
      "요소 추가 이전 :  {}\n",
      "요소 추가 이후 :  {'name': '새로운 이름', 'head': '새로운 정신', 'body': '새로운 몸'}\n"
     ]
    }
   ],
   "source": [
    "# 딕셔너리 선언\n",
    "\n",
    "dictionary = {}\n",
    "\n",
    "# 요소 추가 이전\n",
    "print(\"요소 추가 이전 : \" , dictionary)\n",
    "\n",
    "# 딕셔너리에 요소 추가하기\n",
    "\n",
    "dictionary[\"name\"] = \"새로운 이름\"\n",
    "dictionary[\"head\"] = \"새로운 정신\"\n",
    "dictionary[\"body\"] = \"새로운 몸\"\n",
    "\n",
    "# 출력\n",
    "print(\"요소 추가 이후 : \" , dictionary)"
   ]
  },
  {
   "cell_type": "code",
   "execution_count": 7,
   "id": "db066c27",
   "metadata": {},
   "outputs": [
    {
     "name": "stdout",
     "output_type": "stream",
     "text": [
      "요소 제거 이전 :  {'name': '70 건조 망고', 'type': '당절임'}\n",
      "요소 제거 이후 :  {}\n"
     ]
    }
   ],
   "source": [
    "# 딕셔너리 선언\n",
    "\n",
    "dictionary = {\n",
    "    \"name\": \"70 건조 망고\",\n",
    "    \"type\": \"당절임\"\n",
    "}\n",
    "\n",
    "# 요소 제거 이전\n",
    "print(\"요소 제거 이전 : \" , dictionary)\n",
    "\n",
    "# 딕셔너리 요소 제거하기\n",
    "\n",
    "del dictionary[\"name\"]\n",
    "del dictionary[\"type\"]\n",
    "\n",
    "# 출력\n",
    "print(\"요소 제거 이후 : \" , dictionary)"
   ]
  },
  {
   "cell_type": "code",
   "execution_count": 8,
   "id": "981c5680",
   "metadata": {},
   "outputs": [
    {
     "ename": "KeyError",
     "evalue": "'Key'",
     "output_type": "error",
     "traceback": [
      "\u001b[0;31m---------------------------------------------------------------------------\u001b[0m",
      "\u001b[0;31mKeyError\u001b[0m                                  Traceback (most recent call last)",
      "Input \u001b[0;32mIn [8]\u001b[0m, in \u001b[0;36m<cell line: 6>\u001b[0;34m()\u001b[0m\n\u001b[1;32m      1\u001b[0m \u001b[38;5;66;03m# KeyError 예외\u001b[39;00m\n\u001b[1;32m      2\u001b[0m \n\u001b[1;32m      3\u001b[0m \u001b[38;5;66;03m# 딕셔너리에 존재하지 않는 키에 접근 시\u001b[39;00m\n\u001b[1;32m      5\u001b[0m dictionary \u001b[38;5;241m=\u001b[39m {}\n\u001b[0;32m----> 6\u001b[0m \u001b[43mdictionary\u001b[49m\u001b[43m[\u001b[49m\u001b[38;5;124;43m\"\u001b[39;49m\u001b[38;5;124;43mKey\u001b[39;49m\u001b[38;5;124;43m\"\u001b[39;49m\u001b[43m]\u001b[49m\n",
      "\u001b[0;31mKeyError\u001b[0m: 'Key'"
     ]
    }
   ],
   "source": [
    "# KeyError 예외\n",
    "\n",
    "# 딕셔너리에 존재하지 않는 키에 접근 시\n",
    "\n",
    "dictionary = {}\n",
    "dictionary[\"Key\"]"
   ]
  },
  {
   "cell_type": "code",
   "execution_count": 9,
   "id": "805490b9",
   "metadata": {},
   "outputs": [
    {
     "name": "stdout",
     "output_type": "stream",
     "text": [
      "> 접근하고자 하는 키: name\n",
      "70 건조 망고\n"
     ]
    }
   ],
   "source": [
    "# 딕셔너리 내부에 키가 있는지 확인하기\n",
    "\n",
    "# 딕셔너리 선언\n",
    "\n",
    "dictionary = {\n",
    "    \"name\": \"70 건조 망고\",\n",
    "    \"type\": \"당절임\",\n",
    "    \"ingredient\": [\"망고\", \"설탕\", \"메타종아황산나트륨\", \"치자황색소\"],\n",
    "    \"origin\": \"필리핀\"\n",
    "}\n",
    "\n",
    "# 사용자로부터 입력을 받습니다.\n",
    "\n",
    "key = input(\"> 접근하고자 하는 키: \")\n",
    "\n",
    "# 출력\n",
    "\n",
    "if key in dictionary:\n",
    "    print(dictionary[key])\n",
    "    \n",
    "else:\n",
    "    print(\"Key wasn't founded\")"
   ]
  },
  {
   "cell_type": "code",
   "execution_count": 10,
   "id": "84b05768",
   "metadata": {},
   "outputs": [],
   "source": [
    "# get() 함수\n",
    "\n",
    "# 잘 쓰지 않아서 생략"
   ]
  },
  {
   "cell_type": "code",
   "execution_count": 12,
   "id": "2748d8b1",
   "metadata": {},
   "outputs": [
    {
     "name": "stdout",
     "output_type": "stream",
     "text": [
      "name : 70 건조 망고\n",
      "type : 당절임\n",
      "ingredient : ['망고', '설탕', '메타종아황산나트륨', '치자황색소']\n",
      "origin : 필리핀\n"
     ]
    }
   ],
   "source": [
    "# for 반복문 + 딕셔너리\n",
    "\n",
    "# for 키 변수 in 딕셔너리: 코드\n",
    "\n",
    "dictionary = {\n",
    "    \"name\": \"70 건조 망고\",\n",
    "    \"type\": \"당절임\",\n",
    "    \"ingredient\": [\"망고\", \"설탕\", \"메타종아황산나트륨\", \"치자황색소\"],\n",
    "    \"origin\": \"필리핀\"\n",
    "}\n",
    "\n",
    "# for 반복문 사용\n",
    "\n",
    "for key in dictionary:\n",
    "    \n",
    "    # 출력\n",
    "    print(key, \":\" , dictionary[key])"
   ]
  }
 ],
 "metadata": {
  "kernelspec": {
   "display_name": "Python 3 (ipykernel)",
   "language": "python",
   "name": "python3"
  },
  "language_info": {
   "codemirror_mode": {
    "name": "ipython",
    "version": 3
   },
   "file_extension": ".py",
   "mimetype": "text/x-python",
   "name": "python",
   "nbconvert_exporter": "python",
   "pygments_lexer": "ipython3",
   "version": "3.8.5"
  }
 },
 "nbformat": 4,
 "nbformat_minor": 5
}
