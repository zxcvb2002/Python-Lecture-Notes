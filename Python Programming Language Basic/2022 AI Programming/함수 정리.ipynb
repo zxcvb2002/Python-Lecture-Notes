{
 "cells": [
  {
   "cell_type": "code",
   "execution_count": 14,
   "id": "f9d47cb5",
   "metadata": {},
   "outputs": [
    {
     "name": "stdout",
     "output_type": "stream",
     "text": [
      "호서대학교\n",
      "전자융합공학부\n",
      "정보영\n"
     ]
    }
   ],
   "source": [
    "def address(): # address - 함수\n",
    "    print(\"호서대학교\")\n",
    "    print(\"전자융합공학부\")\n",
    "    print(\"정보영\")\n",
    "\n",
    "address()"
   ]
  },
  {
   "cell_type": "code",
   "execution_count": 15,
   "id": "759151e7",
   "metadata": {},
   "outputs": [
    {
     "name": "stdout",
     "output_type": "stream",
     "text": [
      "호서대학교\n",
      "전자융합공학부\n",
      "정보영\n"
     ]
    }
   ],
   "source": [
    "def address(name): # name - 기본 매개변수\n",
    "    print(\"호서대학교\")\n",
    "    print(\"전자융합공학부\")\n",
    "    print(name)\n",
    "\n",
    "address(\"정보영\")"
   ]
  },
  {
   "cell_type": "code",
   "execution_count": 4,
   "id": "e707c35d",
   "metadata": {},
   "outputs": [
    {
     "name": "stdout",
     "output_type": "stream",
     "text": [
      "호서대학교\n",
      "정보영\n",
      "전자융합공학부\n"
     ]
    }
   ],
   "source": [
    "def address(name, department): # department, name - 기본 매개변수\n",
    "    print(\"호서대학교\")\n",
    "    print(name)\n",
    "    print(department)\n",
    "\n",
    "address(\"정보영\",\"전자융합공학부\")"
   ]
  },
  {
   "cell_type": "code",
   "execution_count": 18,
   "id": "e40f19e6",
   "metadata": {},
   "outputs": [
    {
     "name": "stdout",
     "output_type": "stream",
     "text": [
      "호서대학교\n",
      "전자융합공학부\n",
      "정보영\n"
     ]
    }
   ],
   "source": [
    "def address(department,name): # department, name - 기본 매개변수\n",
    "    print(\"호서대학교\")\n",
    "    print(department)\n",
    "    print(name)\n",
    "\n",
    "address(\"전자융합공학부\",\"정보영\")"
   ]
  },
  {
   "cell_type": "code",
   "execution_count": 19,
   "id": "62205335",
   "metadata": {},
   "outputs": [
    {
     "name": "stdout",
     "output_type": "stream",
     "text": [
      "호서대학교\n",
      "전자융합공학부\n",
      "정보영\n"
     ]
    }
   ],
   "source": [
    "def address(university,department,name): # university, department, name - 기본 매개변수\n",
    "    print(university)\n",
    "    print(department)\n",
    "    print(name)\n",
    "\n",
    "address(\"호서대학교\",\"전자융합공학부\",\"정보영\")"
   ]
  },
  {
   "cell_type": "code",
   "execution_count": 20,
   "id": "4fc074f5",
   "metadata": {},
   "outputs": [
    {
     "name": "stdout",
     "output_type": "stream",
     "text": [
      "호서대학교\n",
      "전자융합공학부\n",
      "정보영\n",
      "단국대학교\n",
      "모바일시스템공학과\n",
      "정보영\n"
     ]
    }
   ],
   "source": [
    "def address(university,department,name): # university, department, name - 기본 매개변수\n",
    "    print(university)\n",
    "    print(department)\n",
    "    print(name)\n",
    "\n",
    "address(\"호서대학교\",\"전자융합공학부\",\"정보영\")\n",
    "address(\"단국대학교\",\"모바일시스템공학과\",\"정보영\")"
   ]
  },
  {
   "cell_type": "code",
   "execution_count": 21,
   "id": "3a9e6150",
   "metadata": {},
   "outputs": [
    {
     "name": "stdout",
     "output_type": "stream",
     "text": [
      "5050\n"
     ]
    }
   ],
   "source": [
    "def number(x,y):\n",
    "    sum = 0\n",
    "    for i in range(x,y+1):\n",
    "        sum += i\n",
    "    return sum\n",
    "\n",
    "print(number(1,100))"
   ]
  },
  {
   "cell_type": "code",
   "execution_count": 22,
   "id": "3a2ae33e",
   "metadata": {},
   "outputs": [
    {
     "name": "stdout",
     "output_type": "stream",
     "text": [
      "5050\n"
     ]
    }
   ],
   "source": [
    "def number(x,y):\n",
    "    sum = 0\n",
    "    for i in range(x,y+1):\n",
    "        sum += i\n",
    "    return sum\n",
    "\n",
    "total = number(1,100)\n",
    "print(total)"
   ]
  },
  {
   "cell_type": "code",
   "execution_count": 23,
   "id": "eac75979",
   "metadata": {},
   "outputs": [
    {
     "name": "stdout",
     "output_type": "stream",
     "text": [
      "***\n",
      "***\n",
      "***\n"
     ]
    }
   ],
   "source": [
    "for i in range(3):\n",
    "    for j in range(3):\n",
    "        print(\"*\", end=\"\")\n",
    "    print()"
   ]
  },
  {
   "cell_type": "code",
   "execution_count": 3,
   "id": "e660a104",
   "metadata": {},
   "outputs": [
    {
     "name": "stdout",
     "output_type": "stream",
     "text": [
      "***\n",
      "***\n",
      "***\n"
     ]
    }
   ],
   "source": [
    "def function(x,y):\n",
    "    for i in range(x):\n",
    "        for j in range(y):\n",
    "            print(\"*\", end=\"\")\n",
    "        print()\n",
    "function(3,3)"
   ]
  },
  {
   "cell_type": "code",
   "execution_count": 1,
   "id": "815da9ef",
   "metadata": {},
   "outputs": [],
   "source": [
    "# 지금까지 했던 모든 코드(for 문)을 모두 함수로 바꿀 수 있으면 좋은 성적\n",
    "# 1시간 안에 충분히 풀 수 있는 문제\n",
    "# 8문제 - 1문제 당 10분 정도\n",
    "# 순수한 파이썬 코딩"
   ]
  }
 ],
 "metadata": {
  "kernelspec": {
   "display_name": "Python 3 (ipykernel)",
   "language": "python",
   "name": "python3"
  },
  "language_info": {
   "codemirror_mode": {
    "name": "ipython",
    "version": 3
   },
   "file_extension": ".py",
   "mimetype": "text/x-python",
   "name": "python",
   "nbconvert_exporter": "python",
   "pygments_lexer": "ipython3",
   "version": "3.8.5"
  }
 },
 "nbformat": 4,
 "nbformat_minor": 5
}
