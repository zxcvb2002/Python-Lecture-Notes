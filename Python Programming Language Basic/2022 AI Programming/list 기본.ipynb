{
 "cells": [
  {
   "cell_type": "code",
   "execution_count": 1,
   "id": "b433d0a1",
   "metadata": {},
   "outputs": [
    {
     "name": "stdout",
     "output_type": "stream",
     "text": [
      "[273, 32, 183, '문자열']\n"
     ]
    }
   ],
   "source": [
    "# 리스트 list\n",
    "# 여러가지 자료를 저장할 수 있는 자료\n",
    "# 자료들을 모아서 사용할 수 있게 해줌\n",
    "# 대괄호 내부에 자료를 넣어 선언\n",
    "\n",
    "array = [273, 32, 183, '문자열']\n",
    "\n",
    "print(array)"
   ]
  },
  {
   "cell_type": "code",
   "execution_count": 2,
   "id": "f97d8b5e",
   "metadata": {},
   "outputs": [
    {
     "data": {
      "text/plain": [
       "[1, 2, 3, 4, '문', '자', '열']"
      ]
     },
     "execution_count": 2,
     "metadata": {},
     "output_type": "execute_result"
    }
   ],
   "source": [
    "# 요소 element\n",
    "# 리스트의 대괄호 내부에 넣는 자료\n",
    "\n",
    "# 숫자만으로 구성된 리스트\n",
    "[1 , 2 , 3 , 4]\n",
    "\n",
    "# 문자열만으로 구성된 리스트\n",
    "[\"문\" , \"자\" , \"열\"]\n",
    "\n",
    "# 여러가지 자료형으로 구성된 리스트\n",
    "[1 , 2 , 3 , 4 , \"문\" , \"자\" , \"열\"]"
   ]
  },
  {
   "cell_type": "code",
   "execution_count": 3,
   "id": "a4caf6a0",
   "metadata": {},
   "outputs": [
    {
     "data": {
      "text/plain": [
       "[32, 183]"
      ]
     },
     "execution_count": 3,
     "metadata": {},
     "output_type": "execute_result"
    }
   ],
   "source": [
    "# 인덱스 index - 대괄호 안에 입력한 내용\n",
    "# 0 부터 시작 - 0 1 2 3 4 5 6 - 요소 순서\n",
    "\n",
    "list_a = [273, 32, 183, '문자열']\n",
    "\n",
    "list_a[0]\n",
    "\n",
    "list_a[1]\n",
    "\n",
    "list_a[2]\n",
    "\n",
    "list_a[3]\n",
    "\n",
    "list_a[1:3]"
   ]
  },
  {
   "cell_type": "code",
   "execution_count": 4,
   "id": "16b7873a",
   "metadata": {},
   "outputs": [],
   "source": [
    "# 리스트 선언하고 요소에 접근하기"
   ]
  },
  {
   "cell_type": "code",
   "execution_count": 5,
   "id": "da4ab8d4",
   "metadata": {},
   "outputs": [
    {
     "data": {
      "text/plain": [
       "['변경', 273, 32, 183, '문자열']"
      ]
     },
     "execution_count": 5,
     "metadata": {},
     "output_type": "execute_result"
    }
   ],
   "source": [
    "# 리스트 특정 요소 변경\n",
    "\n",
    "list_a = [273, 32, 183, '문자열']\n",
    "\n",
    "list_a[0] = \"변경\"\n",
    "\n",
    "list_a\n",
    "[\"변경\", 273, 32, 183, '문자열']"
   ]
  },
  {
   "cell_type": "code",
   "execution_count": 7,
   "id": "999bb52d",
   "metadata": {},
   "outputs": [
    {
     "data": {
      "text/plain": [
       "'문자열'"
      ]
     },
     "execution_count": 7,
     "metadata": {},
     "output_type": "execute_result"
    }
   ],
   "source": [
    "# 대괄호 안에 음수 넣어 뒤에서부터 요소 선택하기\n",
    "\n",
    "list_a = [273, 32, 183, '문자열']\n",
    "\n",
    "list_a[-1]"
   ]
  },
  {
   "cell_type": "code",
   "execution_count": 4,
   "id": "3f022631",
   "metadata": {},
   "outputs": [
    {
     "data": {
      "text/plain": [
       "'문'"
      ]
     },
     "execution_count": 4,
     "metadata": {},
     "output_type": "execute_result"
    }
   ],
   "source": [
    "# 리스트 접근 연산자를 이중으로 사용할 수 있음\n",
    "\n",
    "list_a = [273, 32, 183, '문자열']\n",
    "\n",
    "list_a[3][0]"
   ]
  },
  {
   "cell_type": "code",
   "execution_count": 12,
   "id": "dc0f7231",
   "metadata": {},
   "outputs": [
    {
     "data": {
      "text/plain": [
       "[4, 5, 6]"
      ]
     },
     "execution_count": 12,
     "metadata": {},
     "output_type": "execute_result"
    }
   ],
   "source": [
    "# 리스트 여러 개를 가지는 리스트\n",
    "\n",
    "list_a = [[1 , 2 , 3] , [4 , 5 , 6] , [7 , 8 , 9]]\n",
    "\n",
    "list_a[1]"
   ]
  },
  {
   "cell_type": "code",
   "execution_count": 14,
   "id": "0e725ceb",
   "metadata": {},
   "outputs": [
    {
     "data": {
      "text/plain": [
       "5"
      ]
     },
     "execution_count": 14,
     "metadata": {},
     "output_type": "execute_result"
    }
   ],
   "source": [
    "# 리스트 여러 개를 가지는 리스트 2\n",
    "\n",
    "list_a = [[1 , 2 , 3] , [4 , 5 , 6] , [7 , 8 , 9]]\n",
    "\n",
    "list_a[1][1]"
   ]
  },
  {
   "cell_type": "code",
   "execution_count": 21,
   "id": "e6ab7450",
   "metadata": {},
   "outputs": [
    {
     "ename": "IndexError",
     "evalue": "list index out of range",
     "output_type": "error",
     "traceback": [
      "\u001b[0;31m---------------------------------------------------------------------------\u001b[0m",
      "\u001b[0;31mIndexError\u001b[0m                                Traceback (most recent call last)",
      "Input \u001b[0;32mIn [21]\u001b[0m, in \u001b[0;36m<cell line: 5>\u001b[0;34m()\u001b[0m\n\u001b[1;32m      1\u001b[0m \u001b[38;5;66;03m# 리스트에서의 indexError 예외\u001b[39;00m\n\u001b[1;32m      2\u001b[0m \u001b[38;5;66;03m# 리스트의 길이 넘는 인덱스로 요소에 접근하는 경우 발생\u001b[39;00m\n\u001b[1;32m      4\u001b[0m list_a \u001b[38;5;241m=\u001b[39m [\u001b[38;5;241m273\u001b[39m, \u001b[38;5;241m32\u001b[39m, \u001b[38;5;241m183\u001b[39m]\n\u001b[0;32m----> 5\u001b[0m \u001b[43mlist_a\u001b[49m\u001b[43m[\u001b[49m\u001b[38;5;241;43m3\u001b[39;49m\u001b[43m]\u001b[49m\n",
      "\u001b[0;31mIndexError\u001b[0m: list index out of range"
     ]
    }
   ],
   "source": [
    "# 리스트에서의 indexError 예외\n",
    "# 리스트의 길이 넘는 인덱스로 요소에 접근하는 경우 발생\n",
    "\n",
    "list_a = [273, 32, 183]\n",
    "list_a[3]"
   ]
  },
  {
   "cell_type": "code",
   "execution_count": 22,
   "id": "3c66623e",
   "metadata": {},
   "outputs": [
    {
     "name": "stdout",
     "output_type": "stream",
     "text": [
      "# 리스트\n",
      "list_a = [1, 2, 3]\n",
      "list_b = [4, 5, 6]\n",
      "\n",
      "# 리스트 기본 연산자\n",
      "list_a + list_b = [1, 2, 3, 4, 5, 6]\n",
      "list_a * 3 = [1, 2, 3, 1, 2, 3, 1, 2, 3]\n",
      "\n",
      "# 리스트\n",
      "len(list_a) = 3\n"
     ]
    }
   ],
   "source": [
    "# ex - 리스트 연산\n",
    "\n",
    "# 리스트 선언\n",
    "\n",
    "list_a = [1 , 2 , 3]\n",
    "list_b = [4 , 5, 6]\n",
    "\n",
    "# 기본 연산자\n",
    "\n",
    "print(\"# 리스트\")\n",
    "print(\"list_a =\" , list_a)\n",
    "\n",
    "# 함수\n",
    "\n",
    "print(\"list_b =\" , list_b)\n",
    "print()\n",
    "\n",
    "\n",
    "\n",
    "# 기본 연산자\n",
    "\n",
    "print(\"# 리스트 기본 연산자\")\n",
    "print(\"list_a + list_b =\" , list_a + list_b) # 문자열 연결 연산자를 사용, list_a (a 리스트) 와 list_b (b 리스트) 의 자료 연결\n",
    "print(\"list_a * 3 =\" , list_a * 3) # 문자열 반복 연산자를 사용, list_a 의 자료 3번 반복\n",
    "print()\n",
    "\n",
    "# 함수 - len(gth)함수 : 요소의 개수 구하는 함수\n",
    "print(\"# 리스트\")\n",
    "print(\"len(list_a) =\" , len(list_a)) # len함수로 list_a 에 들어있는 요소의 개수를 구함"
   ]
  },
  {
   "cell_type": "code",
   "execution_count": 8,
   "id": "d8a5625f",
   "metadata": {},
   "outputs": [
    {
     "name": "stdout",
     "output_type": "stream",
     "text": [
      "# 리스트 뒤에 요소 추가하기\n",
      "[1, 2, 3, 4, 5]\n",
      "\n",
      "# 리스트 중간에 요소 추가하기\n",
      "[10, 1, 2, 3, 4, 5]\n"
     ]
    }
   ],
   "source": [
    "# append() 함수 - 리스트 뒤에 요소 추가 / insert() 함수 - 리스트 중간에 요소를 추가 - 리스트에 요소(값)을 추가\n",
    "\n",
    "# 리스트명.append(요소) | 리스트명.insert(위치, 요소)\n",
    "\n",
    "# 리스트 선언\n",
    "list_a = [1 , 2 , 3]\n",
    "\n",
    "# 리스트 뒤에 요소 추가하기 - append() 함수\n",
    "print(\"# 리스트 뒤에 요소 추가하기\")\n",
    "list_a.append(4)\n",
    "list_a.append(5)\n",
    "print(list_a)\n",
    "print()\n",
    "\n",
    "# 리스트 중간에 요소 추가하기 - insert() 함수\n",
    "\n",
    "print(\"# 리스트 중간에 요소 추가하기\")\n",
    "list_a.insert(0 , 10)\n",
    "print(list_a)"
   ]
  },
  {
   "cell_type": "code",
   "execution_count": 9,
   "id": "9e402eb0",
   "metadata": {},
   "outputs": [
    {
     "name": "stdout",
     "output_type": "stream",
     "text": [
      "[1, 2, 3, 4, 5, 6]\n"
     ]
    }
   ],
   "source": [
    "# extend() 함수 - 원래 리스트 뒤에 새로운 리스트의 요소 모두 추가\n",
    "# 매개변수로 리스트 입력\n",
    "\n",
    "list_a = [1 , 2 , 3]\n",
    "list_a.extend([4 , 5 , 6])\n",
    "print(list_a)"
   ]
  },
  {
   "cell_type": "code",
   "execution_count": 6,
   "id": "4765a83d",
   "metadata": {},
   "outputs": [
    {
     "data": {
      "text/plain": [
       "[1, 2, 3, 4, 5, 6]"
      ]
     },
     "execution_count": 6,
     "metadata": {},
     "output_type": "execute_result"
    }
   ],
   "source": [
    "# 리스트 연결 연산자와 요소 추가의 차이\n",
    "# 리스트 연결 연산자를 사용하면 결과상 원본에 변화는 없음\n",
    "\n",
    "list_a = [1 , 2 , 3]\n",
    "list_b = [4 , 5 , 6]\n",
    "\n",
    "list_a + list_b\n",
    "\n",
    "# list_a\n",
    "# 리스트 a에는 아무런 변화도 없음 (비파괴적 처리)\n",
    "# -> [1 , 2 , 3]\n",
    "\n",
    "# list_b\n",
    "# 리스트 b에는 아무런 변화도 없음 (비파괴적 처리)\n",
    "# -> [4 , 5 ,6]"
   ]
  },
  {
   "cell_type": "code",
   "execution_count": 7,
   "id": "1f78f532",
   "metadata": {},
   "outputs": [],
   "source": [
    "# 리스트 연결 연산자와 요소 추가의 차이\n",
    "# 리스트 요소 추가를 사용하면 결과상 원본에 변화가 있음\n",
    "\n",
    "list_a = [1 , 2 , 3]\n",
    "list_b = [4 , 5 , 6]\n",
    "\n",
    "list_a.extend(list_b)\n",
    "\n",
    "# list_a\n",
    "# 리스트 a에는 변화가 있음 (파괴적 처리)\n",
    "# -> [1 , 2 , 3 , 4 , 5 , 6]\n",
    "\n",
    "# list_b\n",
    "# 리스트 b에는 변화도 있음 (파괴적 처리)\n",
    "# -> [4 , 5 , 6]"
   ]
  },
  {
   "cell_type": "code",
   "execution_count": 8,
   "id": "5c70ad62",
   "metadata": {},
   "outputs": [
    {
     "ename": "NameError",
     "evalue": "name '리스트명' is not defined",
     "output_type": "error",
     "traceback": [
      "\u001b[0;31m---------------------------------------------------------------------------\u001b[0m",
      "\u001b[0;31mNameError\u001b[0m                                 Traceback (most recent call last)",
      "Input \u001b[0;32mIn [8]\u001b[0m, in \u001b[0;36m<cell line: 3>\u001b[0;34m()\u001b[0m\n\u001b[1;32m      1\u001b[0m \u001b[38;5;66;03m# 인덱스로 제거하기 : del 키워드 , pop() 함수\u001b[39;00m\n\u001b[0;32m----> 3\u001b[0m \u001b[38;5;28;01mdel\u001b[39;00m \u001b[43m리스트명\u001b[49m[인덱스]\n\u001b[1;32m      5\u001b[0m 리스트명\u001b[38;5;241m.\u001b[39mpop(인덱스)\n",
      "\u001b[0;31mNameError\u001b[0m: name '리스트명' is not defined"
     ]
    }
   ],
   "source": [
    "# 인덱스로 제거하기 : del 키워드 , pop() 함수\n",
    "\n",
    "del 리스트명[인덱스]\n",
    "\n",
    "리스트명.pop(인덱스)"
   ]
  },
  {
   "cell_type": "code",
   "execution_count": 13,
   "id": "07e8ec5e",
   "metadata": {},
   "outputs": [
    {
     "name": "stdout",
     "output_type": "stream",
     "text": [
      "del list_a[1]: [0, 2, 3, 4, 5]\n",
      "pop(2): [0, 3, 4, 5]\n"
     ]
    }
   ],
   "source": [
    "list_a = [0, 1, 2, 3, 4, 5]\n",
    "\n",
    "# del 키워드\n",
    "\n",
    "del list_a[1]\n",
    "print(\"del list_a[1]:\", list_a)"
   ]
  },
  {
   "cell_type": "code",
   "execution_count": 15,
   "id": "df1c9e86",
   "metadata": {},
   "outputs": [
    {
     "name": "stdout",
     "output_type": "stream",
     "text": [
      "pop(2): [0, 1, 3, 4, 5]\n"
     ]
    }
   ],
   "source": [
    "list_a = [0, 1, 2, 3, 4, 5]\n",
    "\n",
    "# pop() 함수\n",
    "\n",
    "list_a.pop(2)\n",
    "print(\"pop(2):\", list_a)"
   ]
  },
  {
   "cell_type": "code",
   "execution_count": 32,
   "id": "6a09d8a3",
   "metadata": {},
   "outputs": [
    {
     "name": "stdout",
     "output_type": "stream",
     "text": [
      "list_a[3:6]: [0, 1, 2, 6, 7]\n",
      "list_a[3:]: [6, 7]\n"
     ]
    }
   ],
   "source": [
    "# del 키워드 - 사용할 경우 범위 지정해 리스트 요소를 한꺼번에 제거 가능\n",
    "\n",
    "list_a = [0, 1, 2, 3, 4, 5, 6, 7]\n",
    "\n",
    "del list_a[3:6]\n",
    "\n",
    "print(\"list_a[3:6]:\", list_a) # 그냥 print 안 붙이고 list_a 로도 출력가능 - 딘, 리턴 값 있을 수 있음\n",
    "\n",
    "# 범위 한 쪽을 입력하지 않으면 지정 위치 기준으로 한 쪽을 전부 제거\n",
    "\n",
    "del list_a[:3]\n",
    "\n",
    "print(\"list_a[3:]:\", list_a) # 프린트 붙이나 마나 똑같음 - 단, 리턴 값 없음"
   ]
  }
 ],
 "metadata": {
  "kernelspec": {
   "display_name": "Python 3 (ipykernel)",
   "language": "python",
   "name": "python3"
  },
  "language_info": {
   "codemirror_mode": {
    "name": "ipython",
    "version": 3
   },
   "file_extension": ".py",
   "mimetype": "text/x-python",
   "name": "python",
   "nbconvert_exporter": "python",
   "pygments_lexer": "ipython3",
   "version": "3.8.5"
  }
 },
 "nbformat": 4,
 "nbformat_minor": 5
}
