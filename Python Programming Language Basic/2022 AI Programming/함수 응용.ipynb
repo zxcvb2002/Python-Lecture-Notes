{
 "cells": [
  {
   "cell_type": "code",
   "execution_count": null,
   "id": "f19dfe03",
   "metadata": {},
   "outputs": [],
   "source": [
    "# 재귀 함수 : 내부에서 자기 자신을 호출하는 함수\n",
    "\n",
    "# 조기 리턴 : 함수의 흐름 중간에 return 키워드 사용해서 코드 들여쓰기 줄이는 등의 효과를 가져오는 테크닉"
   ]
  },
  {
   "cell_type": "code",
   "execution_count": null,
   "id": "6f3623f8",
   "metadata": {},
   "outputs": [],
   "source": [
    "# 팩토리얼(factorial)\n",
    "\n",
    "# 반복문으로 팩토리얼 구하기\n",
    "\n",
    "# 재귀 함수로 팩토리얼 구하기"
   ]
  },
  {
   "cell_type": "code",
   "execution_count": 1,
   "id": "16669f66",
   "metadata": {},
   "outputs": [
    {
     "name": "stdout",
     "output_type": "stream",
     "text": [
      "1!: 1\n",
      "2!: 2\n",
      "3!: 6\n",
      "4!: 24\n",
      "5!: 120\n",
      "1\n",
      "2\n",
      "6\n",
      "24\n",
      "120\n"
     ]
    }
   ],
   "source": [
    "# 반복문으로 팩토리얼 구하기\n",
    "\n",
    "# 함수를 선언합니다.\n",
    "def factorial(n):\n",
    "    # 변수를 선언합니다.\n",
    "    ouput = 1\n",
    "    # 반복문을 돌려 숫자를 더합니다.\n",
    "    for i in range(1, n + 1):\n",
    "        ouput *= i\n",
    "    # 리턴합니다.\n",
    "    return ouput\n",
    "\n",
    "# 함수를 호출합니다.\n",
    "print(\"1!:\", factorial(1))\n",
    "print(\"2!:\", factorial(2))\n",
    "print(\"3!:\", factorial(3))\n",
    "print(\"4!:\", factorial(4))\n",
    "print(\"5!:\", factorial(5))\n",
    "\n",
    "# 다른 방식\n",
    "\n",
    "fac1 = factorial(1)\n",
    "fac2 = factorial(2)\n",
    "fac3 = factorial(3)\n",
    "fac4 = factorial(4)\n",
    "fac5 = factorial(5)\n",
    "\n",
    "print(fac1)\n",
    "print(fac2)\n",
    "print(fac3)\n",
    "print(fac4)\n",
    "print(fac5)"
   ]
  },
  {
   "cell_type": "code",
   "execution_count": 2,
   "id": "1b76128b",
   "metadata": {},
   "outputs": [
    {
     "name": "stdout",
     "output_type": "stream",
     "text": [
      "0: 1\n",
      "1: 1\n",
      "2: 2\n",
      "3: 6\n",
      "4: 24\n",
      "5: 120\n"
     ]
    }
   ],
   "source": [
    "# 재귀 함수로 팩토리얼 구하기 - 재귀 함수 : 내부에서 자기 자신을 호출하는 \n",
    "\n",
    "def factorial(n):\n",
    "    # n이 0이라면 1을 리턴\n",
    "    if n == 0:\n",
    "        return 1\n",
    "    # n이 0이 아니라면 n*(n-1)을 리턴\n",
    "    else:\n",
    "        return n * factorial (n-1)\n",
    "\n",
    "# 함수를 호출합니다.\n",
    "print(\"0:\", factorial(0))\n",
    "print(\"1:\", factorial(1))\n",
    "print(\"2:\", factorial(2))\n",
    "print(\"3:\", factorial(3))\n",
    "print(\"4:\", factorial(4))\n",
    "print(\"5:\", factorial(5))"
   ]
  },
  {
   "cell_type": "code",
   "execution_count": 7,
   "id": "a3212b31",
   "metadata": {},
   "outputs": [
    {
     "data": {
      "text/plain": [
       "30"
      ]
     },
     "execution_count": 7,
     "metadata": {},
     "output_type": "execute_result"
    }
   ],
   "source": [
    "# 튜플(tuple) : 함수와 함께 많이 사용되는 리스트와 비슷한 자료형으로, 한 번 결정된 요소를 바꿀 수 없다는 점이 리스트와 다름\n",
    "# 리스트와 유사한 자료형 / 한번 결정된 요소는 바꿀 수 없음\n",
    "# (데이터, 데이터, 데이터, ...)\n",
    "\n",
    "tuple_test = (10, 20, 30)\n",
    "\n",
    "tuple_test[0]\n",
    "\n",
    "tuple_test[1]\n",
    "\n",
    "tuple_test[2]"
   ]
  },
  {
   "cell_type": "code",
   "execution_count": 5,
   "id": "b77c5b20",
   "metadata": {},
   "outputs": [
    {
     "name": "stdout",
     "output_type": "stream",
     "text": [
      "a: 10\n",
      "b: 20\n",
      "c: 10\n",
      "d: 20\n",
      "\n",
      "#1) 괄호가 없는 튜플의 값과 자료형 출력\n",
      "tuple_test: (10, 20, 30, 40)\n",
      "type(tuple_test:) <class 'tuple'>\n",
      "\n",
      "#2) 괄호가 없는 튜플의 값과 자료형 출력\n",
      "a: 10\n",
      "b: 20\n",
      "c: 30\n"
     ]
    }
   ],
   "source": [
    "# 리스트와 튜플의 특이한 사용\n",
    "[a, b] = [10, 20]\n",
    "(c, d) = (10, 20)\n",
    "\n",
    "print(\"a:\", a)\n",
    "print(\"b:\", b)\n",
    "\n",
    "print(\"c:\", c)\n",
    "print(\"d:\", d)\n",
    "\n",
    "print()\n",
    "\n",
    "# 괄호가 없는 튜플\n",
    "print(\"#1) 괄호가 없는 튜플의 값과 자료형 출력\")\n",
    "tuple_test = 10, 20, 30, 40    # 튜플을 입력합니다.\n",
    "print(\"tuple_test:\", tuple_test) # 괄호가 있게 출력됨\n",
    "print(\"type(tuple_test:)\", type(tuple_test)) # 성분 검사\n",
    "print()\n",
    "\n",
    "# 괄호가 없는 튜플 활용\n",
    "print(\"#2) 괄호가 없는 튜플의 값과 자료형 출력\")\n",
    "a, b, c = 10, 20, 30    # 튜플을 입력합니다.\n",
    "print(\"a:\", a)\n",
    "print(\"b:\", b)\n",
    "print(\"c:\", c)"
   ]
  },
  {
   "cell_type": "code",
   "execution_count": 18,
   "id": "2ec4eb21",
   "metadata": {},
   "outputs": [
    {
     "name": "stdout",
     "output_type": "stream",
     "text": [
      "#교환 전 값\n",
      "a: 10\n",
      "b: 20\n",
      "\n",
      "# 교환 후 값\n",
      "a: 20\n",
      "b: 10\n"
     ]
    }
   ],
   "source": [
    "# 변수의 값을 교환하는 튜플\n",
    "\n",
    "a, b = 10, 20\n",
    "\n",
    "print(\"#교환 전 값\")\n",
    "print(\"a:\", a)\n",
    "print(\"b:\", b)\n",
    "\n",
    "print()\n",
    "\n",
    "# 값을 교환합니다.\n",
    "\n",
    "a, b = b, a\n",
    "\n",
    "print(\"# 교환 후 값\")\n",
    "print(\"a:\", a)\n",
    "print(\"b:\", b)"
   ]
  },
  {
   "cell_type": "code",
   "execution_count": 9,
   "id": "22c4dc7b",
   "metadata": {},
   "outputs": [
    {
     "name": "stdout",
     "output_type": "stream",
     "text": [
      "a: 10\n",
      "b: 20\n"
     ]
    }
   ],
   "source": [
    "# 튜플과 함수 - 여러 개의 값 리턴하기\n",
    "\n",
    "# 함수를 선언합니다.\n",
    "\n",
    "def test():\n",
    "    return (10, 20)\n",
    "\n",
    "# 여러 개의 값을 리턴합니다.\n",
    "\n",
    "a, b = test() # test() = a, b 는 불가능, 순서 고정 (???)\n",
    "\n",
    "# 출력합니다.\n",
    "\n",
    "print(\"a:\", a)\n",
    "print(\"b:\", b)"
   ]
  },
  {
   "cell_type": "code",
   "execution_count": 1,
   "id": "2c0cef84",
   "metadata": {},
   "outputs": [
    {
     "name": "stdout",
     "output_type": "stream",
     "text": [
      "Hello Python Programming...!\n"
     ]
    }
   ],
   "source": [
    "# 파일 처리\n",
    "\n",
    "# 텍스트 파일의 처리 - 파일 열기(open) -> 파일 읽기(read) -> 파일 쓰기(write)\n",
    "\n",
    "# 파일 열고 닫기 (여닫기) - open() 함수\n",
    "\n",
    "# 파일 객체 = open(문자열: 파일 경로, 문자열: 읽기 모드)\n",
    "\n",
    "# 모드에(는) 다음을 지정할 수 있음\n",
    "\n",
    "# w (모드) - write 모드 (세로 쓰기 모드)\n",
    "\n",
    "# a (모드) - append 모드 (뒤에 이어서 쓰기 모드)\n",
    "\n",
    "# r (모드) - read 모드 (읽기 모드)\n",
    "\n",
    "\n",
    "\n",
    "\n",
    "\n",
    "# closed() 함수\n",
    "\n",
    "# 파일 객체.close()\n",
    "\n",
    "# 파일을 엽니다.\n",
    "file = open(\"basic.txt\", \"w\")\n",
    "\n",
    "# 파일에 텍스트를 씁니다.\n",
    "file.write(\"Hello Python Programming...!\")\n",
    "\n",
    "# 파일을 닫습니다.\n",
    "file.close()\n",
    "\n",
    "\n",
    "\n",
    "\n",
    "\n",
    "# read() 함수\n",
    "\n",
    "# 파일.객체.read()\n",
    "\n",
    "# 파일을 엽니다.\n",
    "with open(\"basic.txt\", \"r\") as file:\n",
    "    # 파일을 읽고 출력합니다.\n",
    "    contents = file.read()\n",
    "print(contents)\n",
    "\n",
    "# with 구문 : 블록을 벗어날 때 close() 함수를 자동(으로) 호출하는 구문\n",
    "\n",
    "\n",
    "\n",
    "\n",
    "\n",
    "# 텍스트 한 줄씩 읽기\n",
    "\n",
    "# CSV, XML JSON 등의 방법으로 텍스트를 사용해 데이터를 구조적으로 표현\n",
    "\n",
    "# CSV 예시\n",
    "# 이름 , 키 , 몸무게\n",
    "# 윤인성, 176, 62\n",
    "# 연하진, 169, 50\n",
    "\n",
    "# 한 줄에 하나씩 데이터(를) 나타내며 각 줄은 쉼표(를) 사용해 데이터(를) 구분함\n",
    "# 첫 줄에 헤더(를) 넣어 각 데이터가 나타내는 바 설명\n",
    "# 한 번에 모든 데이터 올려놓고 사용하는 것이 컴퓨터 성능에 영향(을) 미칠 수도 있음"
   ]
  },
  {
   "cell_type": "code",
   "execution_count": 14,
   "id": "48d0fe2c",
   "metadata": {},
   "outputs": [
    {
     "name": "stdout",
     "output_type": "stream",
     "text": [
      "A 지점 통과\n",
      "B 지점 통과\n",
      "<generator object test at 0x7fee6801b890>\n"
     ]
    }
   ],
   "source": [
    "# 제너레이터(generator) - 빅데이터를 만질 때 사용 가능\n",
    "\n",
    "# 이터레이터를 직접 만들 때 사용하는 코드\n",
    "# 함수 내부에 yield 키워드 사용하면 해당 함수는 제너레이터 함수 됨\n",
    "# 일반 함수와 달리 호출해도 함수 내부 코드가 실행되지 않음\n",
    "\n",
    "# 함수를 선언합니다.\n",
    "def test():\n",
    "    print(\"함수가 호출되었습니다.\")\n",
    "    yield \"test\" # 제너레이터 함수(변수) 이용 - 호출 시에도 함수 내부 코드 미실행 (양보)\n",
    "    \n",
    "# 함수를 호출합니다.\n",
    "print(\"A 지점 통과\")\n",
    "test()\n",
    "\n",
    "print(\"B 지점 통과\")\n",
    "test()\n",
    "\n",
    "print(test())"
   ]
  },
  {
   "cell_type": "code",
   "execution_count": 4,
   "id": "400f6d1a",
   "metadata": {},
   "outputs": [
    {
     "name": "stdout",
     "output_type": "stream",
     "text": [
      "1\n",
      "2\n",
      "3\n",
      "4\n"
     ]
    }
   ],
   "source": [
    "import time\n",
    "\n",
    "def gen(num):\n",
    "    start = 1\n",
    "    while start <= num:\n",
    "        yield start # 제너레이터 함수(변수) 이용 - 호출 시에도 함수 내부 코드 미실행 (양보)\n",
    "        time.sleep(1)\n",
    "        start += 1\n",
    "\n",
    "for i in gen(4):\n",
    "    print(i)"
   ]
  },
  {
   "cell_type": "code",
   "execution_count": 11,
   "id": "7eca6a2c",
   "metadata": {},
   "outputs": [
    {
     "name": "stdout",
     "output_type": "stream",
     "text": [
      "1\n",
      "2\n",
      "4\n",
      "8\n",
      "16\n"
     ]
    }
   ],
   "source": [
    "def factorial(n):\n",
    "    if n == 0:\n",
    "        return 1\n",
    "    else:\n",
    "        return n * factorial (n-1)\n",
    "\n",
    "\n",
    "\n",
    "import time\n",
    "\n",
    "def gen(num):\n",
    "    start = 1\n",
    "    while start <= factorial(num):\n",
    "        yield start # 제너레이터 함수(변수) 이용 - 호출 시에도 함수 내부 코드 미실행 (양보)\n",
    "        time.sleep(1)\n",
    "        start += i\n",
    "\n",
    "for i in gen(4):\n",
    "    print(i)"
   ]
  },
  {
   "cell_type": "code",
   "execution_count": 1,
   "id": "480fb439",
   "metadata": {},
   "outputs": [
    {
     "data": {
      "text/plain": [
       "15"
      ]
     },
     "execution_count": 1,
     "metadata": {},
     "output_type": "execute_result"
    }
   ],
   "source": [
    "def lid(n):\n",
    "    # 변수를 선언합니다.\n",
    "    ouput = 0\n",
    "    # 반복문을 돌려 숫자를 더합니다.\n",
    "    for i in range(1, n):\n",
    "        ouput += i\n",
    "    # 리턴합니다.\n",
    "    return ouput\n",
    "\n",
    "lid(6)"
   ]
  },
  {
   "cell_type": "code",
   "execution_count": 13,
   "id": "5ba7731d",
   "metadata": {},
   "outputs": [
    {
     "name": "stdout",
     "output_type": "stream",
     "text": [
      "    *\n",
      "   ***\n",
      "  *****\n",
      " *******\n",
      "*********\n",
      " *******\n",
      "  *****\n",
      "   ***\n",
      "    *\n"
     ]
    }
   ],
   "source": [
    "import time\n",
    "\n",
    "def byali(num):\n",
    "    start = 1\n",
    "    while start <= num:\n",
    "        yield start # 제너레이터 함수(변수) 이용 - 호출 시에도 함수 내부 코드 미실행 (양보)\n",
    "        time.sleep(0.5)\n",
    "        start += 1\n",
    "        \n",
    "for i in byali(5):\n",
    "    for k in range(5-i):\n",
    "        print(\" \", end=\"\")\n",
    "    for j in range(i+i-1):\n",
    "        print(\"*\", end=\"\")\n",
    "    print()\n",
    "for i in byali(4):\n",
    "    for k in range(i):\n",
    "        print(\" \", end=\"\")\n",
    "    for j in range(9-2*i):\n",
    "        print(\"*\", end=\"\")\n",
    "    print()"
   ]
  },
  {
   "cell_type": "code",
   "execution_count": 15,
   "id": "b198cb6f",
   "metadata": {},
   "outputs": [],
   "source": [
    "# 람다(lambda) : 함수를 짧게 쓸 수 있는 파이썬의 특별한 문법\n",
    "# 매개변수로 함수를 전달하기 위해 함수 구문을 작성하는 것이 번거롭고 코드 낭비라 생각될 때 함수를 간단하고 쉽게 선언하는 방법"
   ]
  },
  {
   "cell_type": "code",
   "execution_count": null,
   "id": "a1ddb27f",
   "metadata": {},
   "outputs": [],
   "source": [
    "# 제너레이터 Vs 이터레이터\n",
    "# 차이점\n",
    "# 이터레이터 - 그냥 그대로 불러와서 다 작업\n",
    "# 제너레이터 - 하나씩 불러와서 작업하고 끝나고 다음 꺼 불러와서 작업"
   ]
  }
 ],
 "metadata": {
  "kernelspec": {
   "display_name": "Python 3 (ipykernel)",
   "language": "python",
   "name": "python3"
  },
  "language_info": {
   "codemirror_mode": {
    "name": "ipython",
    "version": 3
   },
   "file_extension": ".py",
   "mimetype": "text/x-python",
   "name": "python",
   "nbconvert_exporter": "python",
   "pygments_lexer": "ipython3",
   "version": "3.8.5"
  }
 },
 "nbformat": 4,
 "nbformat_minor": 5
}
