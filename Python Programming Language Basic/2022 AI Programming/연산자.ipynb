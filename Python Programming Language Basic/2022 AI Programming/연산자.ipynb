{
 "cells": [
  {
   "cell_type": "code",
   "execution_count": 1,
   "id": "1ad9f00b",
   "metadata": {},
   "outputs": [
    {
     "name": "stdout",
     "output_type": "stream",
     "text": [
      "Hello World\n"
     ]
    }
   ],
   "source": [
    "#출력 기능 print()\n",
    "\n",
    "print(\"Hello World\")"
   ]
  },
  {
   "cell_type": "code",
   "execution_count": 5,
   "id": "60e3bb5c",
   "metadata": {},
   "outputs": [
    {
     "name": "stdout",
     "output_type": "stream",
     "text": [
      "<class 'int'>\n"
     ]
    }
   ],
   "source": [
    "#클래스 자료형 유형 - type()\n",
    "\n",
    "a = 16\n",
    "\n",
    "print(type(a))"
   ]
  },
  {
   "cell_type": "code",
   "execution_count": 3,
   "id": "17f86e87",
   "metadata": {},
   "outputs": [
    {
     "name": "stdout",
     "output_type": "stream",
     "text": [
      "\"배가 고프다\"고 말했더니 배가 고파졌습니다.\n"
     ]
    }
   ],
   "source": [
    "print('\"배가 고프다\"고 말했더니 배가 고파졌습니다.')"
   ]
  },
  {
   "cell_type": "code",
   "execution_count": 10,
   "id": "0fc469a0",
   "metadata": {},
   "outputs": [
    {
     "name": "stdout",
     "output_type": "stream",
     "text": [
      "나는 모릅니다. 안녕 D2 1LP\n"
     ]
    }
   ],
   "source": [
    "print('나는 모릅니다.' , '안녕' , 'D2 1LP')"
   ]
  },
  {
   "cell_type": "code",
   "execution_count": 11,
   "id": "9f087f0b",
   "metadata": {},
   "outputs": [],
   "source": [
    "#시즌 종료 - 2022.09.08"
   ]
  },
  {
   "cell_type": "code",
   "execution_count": 5,
   "id": "c0a57eb4",
   "metadata": {},
   "outputs": [
    {
     "name": "stdout",
     "output_type": "stream",
     "text": [
      "273\n",
      "3.7\n",
      "<class 'int'>\n",
      "<class 'float'>\n"
     ]
    }
   ],
   "source": [
    "#숫자 자료형\n",
    "\n",
    "#자료형의 구분\n",
    "\n",
    "#정수형 - 소수점이 없는 숫자 (형태) - integer - int\n",
    "\n",
    "#실수형 - 소수점이 있는 숫자 (형태) - floating point(부동 소수점) - float\n",
    "\n",
    "print(273)\n",
    "print(3.7)\n",
    "print(type(273))\n",
    "print(type(3.7))"
   ]
  },
  {
   "cell_type": "code",
   "execution_count": 6,
   "id": "dfae7a99",
   "metadata": {},
   "outputs": [
    {
     "name": "stdout",
     "output_type": "stream",
     "text": [
      "5 + 7 = 12\n",
      "5 - 7 = -2\n",
      "5 * 7 = 35\n",
      "5 / 7 = 0.7142857142857143\n"
     ]
    }
   ],
   "source": [
    "#숫자 연산자\n",
    "\n",
    "#덧셈 연산자\n",
    "print(\"5 + 7 =\" , 5 + 7)\n",
    "\n",
    "#뺼셈 연산자\n",
    "print(\"5 - 7 =\" , 5 - 7)\n",
    "\n",
    "#곱셈 연산자\n",
    "print(\"5 * 7 =\" , 5 * 7)\n",
    "\n",
    "#나눗셈 연산자\n",
    "print(\"5 / 7 =\" , 5 / 7)"
   ]
  },
  {
   "cell_type": "code",
   "execution_count": 21,
   "id": "906034dc",
   "metadata": {},
   "outputs": [
    {
     "name": "stdout",
     "output_type": "stream",
     "text": [
      "3 // 2 = 1\n",
      "5 % 2 = 1\n",
      "2 ** 1 = 2\n",
      "2 ** 2 = 4\n",
      "2 ** 3 = 8\n",
      "2 ** 4 = 16\n"
     ]
    }
   ],
   "source": [
    "#정수 나누기(정수-몫) 연산자 : //\n",
    "#숫자를 나누고 소수점 이하 자릿수 삭제한 후 정수 부분(정수-몫)만 남김\n",
    "print(\"3 // 2 =\" , 3 // 2)\n",
    "\n",
    "#나머지 연산자 : %\n",
    "#A를 B로 나누었을 떄의 나머지를 구함\n",
    "print(\"5 % 2 =\" , 5 % 2)\n",
    "\n",
    "#제곱 연산자 : **\n",
    "print(\"2 ** 1 =\" , 2 ** 1)\n",
    "print(\"2 ** 2 =\" , 2 ** 2)\n",
    "print(\"2 ** 3 =\" , 2 ** 3)\n",
    "print(\"2 ** 4 =\" , 2 ** 4)"
   ]
  },
  {
   "cell_type": "code",
   "execution_count": 20,
   "id": "28adcda7",
   "metadata": {},
   "outputs": [
    {
     "name": "stdout",
     "output_type": "stream",
     "text": [
      "0.0\n",
      "4.0\n"
     ]
    }
   ],
   "source": [
    "#연산자의 우선순위\n",
    "#파이썬의 수식은 연산자 간 우선순위에 따라 계산됨\n",
    "#곱셈과 나눗셈이 덧셈과 뺄셈보다 우선\n",
    "\n",
    "print(2 + 2 - 2 * 2 / 2 * 2)\n",
    "print(2 - 2 + 2 / 2 * 2 + 2)\n",
    "\n",
    "#괄호를 활용하여 우선순위 조정\n",
    "#연산자의 우선순위가 자명한 상태에도 괄호로 감싸는 것이 보기에 더욱 좋음"
   ]
  },
  {
   "cell_type": "code",
   "execution_count": 13,
   "id": "409fa3dd",
   "metadata": {},
   "outputs": [
    {
     "ename": "TypeError",
     "evalue": "can only concatenate str (not \"int\") to str",
     "output_type": "error",
     "traceback": [
      "\u001b[0;31m---------------------------------------------------------------------------\u001b[0m",
      "\u001b[0;31mTypeError\u001b[0m                                 Traceback (most recent call last)",
      "Input \u001b[0;32mIn [13]\u001b[0m, in \u001b[0;36m<cell line: 7>\u001b[0;34m()\u001b[0m\n\u001b[1;32m      5\u001b[0m string \u001b[38;5;241m=\u001b[39m \u001b[38;5;124m\"\u001b[39m\u001b[38;5;124m문자열\u001b[39m\u001b[38;5;124m\"\u001b[39m\n\u001b[1;32m      6\u001b[0m number \u001b[38;5;241m=\u001b[39m \u001b[38;5;241m273\u001b[39m\n\u001b[0;32m----> 7\u001b[0m \u001b[43mstring\u001b[49m\u001b[43m \u001b[49m\u001b[38;5;241;43m+\u001b[39;49m\u001b[43m \u001b[49m\u001b[43mnumber\u001b[49m\n",
      "\u001b[0;31mTypeError\u001b[0m: can only concatenate str (not \"int\") to str"
     ]
    }
   ],
   "source": [
    "#TypeError 예외\n",
    "\n",
    "#서로 다른 자료를 연산할 경우\n",
    "\n",
    "string = \"문자열\"\n",
    "number = 273\n",
    "string + number"
   ]
  },
  {
   "cell_type": "code",
   "execution_count": 15,
   "id": "120aa924",
   "metadata": {},
   "outputs": [
    {
     "name": "stdout",
     "output_type": "stream",
     "text": [
      "#기본적인 연산\n",
      "15 + 4 = 19\n",
      "15 - 4 = 11\n",
      "15 * 4 = 60\n",
      "15 / 4 = 3.75\n"
     ]
    }
   ],
   "source": [
    "print (\"#기본적인 연산\")\n",
    "\n",
    "print (15, \"+\" , 4, \"=\" , 15 + 4)\n",
    "print (15, \"-\" , 4, \"=\" , 15 - 4)\n",
    "print (15, \"*\" , 4, \"=\" , 15 * 4)\n",
    "print (15, \"/\" , 4, \"=\" , 15 / 4)"
   ]
  },
  {
   "cell_type": "code",
   "execution_count": 1,
   "id": "23d9a3bf",
   "metadata": {},
   "outputs": [
    {
     "ename": "NameError",
     "evalue": "name '변수' is not defined",
     "output_type": "error",
     "traceback": [
      "\u001b[0;31m---------------------------------------------------------------------------\u001b[0m",
      "\u001b[0;31mNameError\u001b[0m                                 Traceback (most recent call last)",
      "Input \u001b[0;32mIn [1]\u001b[0m, in \u001b[0;36m<cell line: 5>\u001b[0;34m()\u001b[0m\n\u001b[1;32m      1\u001b[0m \u001b[38;5;66;03m#변수 - 값을 저장할 때 사용하는 식별자 , 숫자뿐만 아니라 모든 자료형을 저장할 수 있음\u001b[39;00m\n\u001b[1;32m      2\u001b[0m \u001b[38;5;66;03m#값을 변수에 할당 - 변수 = 값\u001b[39;00m\n\u001b[1;32m      3\u001b[0m \n\u001b[1;32m      4\u001b[0m \u001b[38;5;66;03m#변수에 저장된 값을 출력\u001b[39;00m\n\u001b[0;32m----> 5\u001b[0m \u001b[43m변수\u001b[49m\n\u001b[1;32m      7\u001b[0m \u001b[38;5;66;03m#변수에 저장된 값으로 연산\u001b[39;00m\n\u001b[1;32m      8\u001b[0m 변수 \u001b[38;5;241m+\u001b[39m 변수\n",
      "\u001b[0;31mNameError\u001b[0m: name '변수' is not defined"
     ]
    }
   ],
   "source": [
    "#변수 - 값을 저장할 때 사용하는 식별자 , 숫자뿐만 아니라 모든 자료형을 저장할 수 있음\n",
    "#값을 변수에 할당 - 변수 = 값\n",
    "\n",
    "#변수에 저장된 값을 출력\n",
    "변수\n",
    "\n",
    "#변수에 저장된 값으로 연산\n",
    "변수 + 변수\n",
    "\n",
    "#변수에 저장된 값을 출력\n",
    "print(변수)"
   ]
  },
  {
   "cell_type": "code",
   "execution_count": 2,
   "id": "b81dbe13",
   "metadata": {},
   "outputs": [
    {
     "data": {
      "text/plain": [
       "1.1400000000000001"
      ]
     },
     "execution_count": 2,
     "metadata": {},
     "output_type": "execute_result"
    }
   ],
   "source": [
    "pi = 3.14\n",
    "\n",
    "pi + 2\n",
    "\n",
    "pi - 2\n",
    "\n",
    "pi * 2\n",
    "\n",
    "pi / 2\n",
    "\n",
    "pi % 2\n",
    "\n",
    "#pi // 2 (???)"
   ]
  },
  {
   "cell_type": "code",
   "execution_count": 3,
   "id": "00da0fa7",
   "metadata": {},
   "outputs": [],
   "source": [
    "#복합 대입 연산자\n",
    "\n",
    "# += -> 숫자 덧셈 후 대입\n",
    "\n",
    "# -= -> 숫자 뺼셈 후 대입\n",
    "\n",
    "# *= -> 숫자 곱셈 후 대입\n",
    "\n",
    "# /= -> 숫자 나눗셈 후 대입\n",
    "\n",
    "# %= -> 숫자의 나머지를 구한 후 대입\n",
    "\n",
    "# **= -> 숫자 제곱 후 대입"
   ]
  },
  {
   "cell_type": "code",
   "execution_count": 4,
   "id": "14d45bf2",
   "metadata": {},
   "outputs": [
    {
     "name": "stdout",
     "output_type": "stream",
     "text": [
      "안녕하세요!?\n"
     ]
    }
   ],
   "source": [
    "# 문자열(string) 또한 가능\n",
    "\n",
    "say = \"안녕하세요\"\n",
    "\n",
    "say += \"!\"\n",
    "say += \"?\"\n",
    "\n",
    "print(say)"
   ]
  },
  {
   "cell_type": "code",
   "execution_count": 5,
   "id": "c1b4ce8c",
   "metadata": {},
   "outputs": [],
   "source": [
    "# input() 함수 - 사용자 입력하기\n",
    "\n",
    "# 프롬포트 함수 - input함수 괄호 안에 입력한 내용\n",
    "\n",
    "# 블록(block) - 프로그램이 실행 중 잠시 멈추는 것\n",
    "\n",
    "# 명령 프롬포트에서 글자 입력 후 [Enter] 클릭"
   ]
  },
  {
   "cell_type": "code",
   "execution_count": 6,
   "id": "595a4cdb",
   "metadata": {},
   "outputs": [
    {
     "name": "stdout",
     "output_type": "stream",
     "text": [
      "인사말 입력:안녕하세요!\n",
      "안녕하세요!\n"
     ]
    }
   ],
   "source": [
    "#input 함수의 결과로 산출된 리턴값은 다른 변수에 대입하여 사용 가능\n",
    "\n",
    "hi = input(\"인사말 입력:\")\n",
    "\n",
    "print(hi)"
   ]
  }
 ],
 "metadata": {
  "kernelspec": {
   "display_name": "Python 3 (ipykernel)",
   "language": "python",
   "name": "python3"
  },
  "language_info": {
   "codemirror_mode": {
    "name": "ipython",
    "version": 3
   },
   "file_extension": ".py",
   "mimetype": "text/x-python",
   "name": "python",
   "nbconvert_exporter": "python",
   "pygments_lexer": "ipython3",
   "version": "3.8.5"
  }
 },
 "nbformat": 4,
 "nbformat_minor": 5
}
